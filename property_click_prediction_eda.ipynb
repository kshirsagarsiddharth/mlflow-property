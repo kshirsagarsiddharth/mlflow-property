{
 "cells": [
  {
   "cell_type": "code",
   "execution_count": 36,
   "metadata": {},
   "outputs": [],
   "source": [
    "import torch \n",
    "import pandas as pd \n",
    "import seaborn as sns "
   ]
  },
  {
   "cell_type": "code",
   "execution_count": 37,
   "metadata": {},
   "outputs": [],
   "source": [
    "import matplotlib.pyplot as plt \n",
    "import json\n",
    "import re "
   ]
  },
  {
   "cell_type": "code",
   "execution_count": 38,
   "metadata": {},
   "outputs": [],
   "source": [
    "property_data = pd.read_csv(r'datasets/datasets/property_data_set.csv') \n",
    "property_interactions = pd.read_csv(r'datasets/datasets/property_interactions.csv') \n",
    "property_photos = pd.read_csv(r'datasets/datasets/property_photos.tsv', sep = \"\\t\")"
   ]
  },
  {
   "cell_type": "code",
   "execution_count": 39,
   "metadata": {},
   "outputs": [
    {
     "data": {
      "text/plain": [
       "(28888, 21)"
      ]
     },
     "execution_count": 39,
     "metadata": {},
     "output_type": "execute_result"
    }
   ],
   "source": [
    "property_data.shape"
   ]
  },
  {
   "cell_type": "code",
   "execution_count": 40,
   "metadata": {},
   "outputs": [
    {
     "data": {
      "text/plain": [
       "Index(['property_id', 'type', 'activation_date', 'bathroom', 'floor',\n",
       "       'total_floor', 'furnishing', 'gym', 'latitude', 'longitude',\n",
       "       'lease_type', 'lift', 'locality', 'parking', 'property_age',\n",
       "       'property_size', 'swimming_pool', 'pin_code', 'rent', 'deposit',\n",
       "       'building_type'],\n",
       "      dtype='object')"
      ]
     },
     "execution_count": 40,
     "metadata": {},
     "output_type": "execute_result"
    }
   ],
   "source": [
    "property_data.columns"
   ]
  },
  {
   "cell_type": "code",
   "execution_count": 41,
   "metadata": {},
   "outputs": [],
   "source": [
    "pd.set_option('display.max_columns', 50)\n",
    "pd.set_option('display.max_rows', 10)"
   ]
  },
  {
   "cell_type": "code",
   "execution_count": 42,
   "metadata": {},
   "outputs": [
    {
     "data": {
      "application/vnd.microsoft.datawrangler.viewer.v0+json": {
       "columns": [
        {
         "name": "index",
         "rawType": "int64",
         "type": "integer"
        },
        {
         "name": "property_id",
         "rawType": "object",
         "type": "string"
        },
        {
         "name": "type",
         "rawType": "object",
         "type": "string"
        },
        {
         "name": "activation_date",
         "rawType": "object",
         "type": "string"
        },
        {
         "name": "bathroom",
         "rawType": "int64",
         "type": "integer"
        },
        {
         "name": "floor",
         "rawType": "int64",
         "type": "integer"
        },
        {
         "name": "total_floor",
         "rawType": "float64",
         "type": "float"
        },
        {
         "name": "furnishing",
         "rawType": "object",
         "type": "string"
        },
        {
         "name": "gym",
         "rawType": "int64",
         "type": "integer"
        },
        {
         "name": "latitude",
         "rawType": "float64",
         "type": "float"
        },
        {
         "name": "longitude",
         "rawType": "float64",
         "type": "float"
        },
        {
         "name": "lease_type",
         "rawType": "object",
         "type": "string"
        },
        {
         "name": "lift",
         "rawType": "int64",
         "type": "integer"
        },
        {
         "name": "locality",
         "rawType": "object",
         "type": "string"
        },
        {
         "name": "parking",
         "rawType": "object",
         "type": "string"
        },
        {
         "name": "property_age",
         "rawType": "int64",
         "type": "integer"
        },
        {
         "name": "property_size",
         "rawType": "int64",
         "type": "integer"
        },
        {
         "name": "swimming_pool",
         "rawType": "int64",
         "type": "integer"
        },
        {
         "name": "pin_code",
         "rawType": "float64",
         "type": "float"
        },
        {
         "name": "rent",
         "rawType": "int64",
         "type": "integer"
        },
        {
         "name": "deposit",
         "rawType": "int64",
         "type": "integer"
        },
        {
         "name": "building_type",
         "rawType": "object",
         "type": "string"
        }
       ],
       "conversionMethod": "pd.DataFrame",
       "ref": "ba534cf5-0f02-43b4-8451-aec449192f9d",
       "rows": [
        [
         "0",
         "ff808081469fd6e20146a5af948000ea",
         "BHK2",
         "09-03-2017 14:36",
         "1",
         "3",
         "4.0",
         "SEMI_FURNISHED",
         "1",
         "12.87617415",
         "77.59657101",
         "FAMILY",
         "1",
         "Hulimavu",
         "BOTH",
         "2",
         "850",
         "1",
         "560076.0",
         "12000",
         "120000",
         "AP"
        ],
        [
         "1",
         "ff8080814702d3d10147068359d200cd",
         "BHK2",
         "07-03-2017 12:02",
         "2",
         "4",
         "11.0",
         "SEMI_FURNISHED",
         "1",
         "13.0184435",
         "77.6781215",
         "FAMILY",
         "1",
         "Ramamurthy Nagar",
         "BOTH",
         "1",
         "1233",
         "1",
         "560016.0",
         "20000",
         "150000",
         "AP"
        ],
        [
         "2",
         "ff808081470c645401470fb03f5800a6",
         "BHK2",
         "10-03-2017 13:43",
         "2",
         "0",
         "4.0",
         "NOT_FURNISHED",
         "1",
         "12.9750721",
         "77.665865",
         "ANYONE",
         "1",
         "GM Palya",
         "FOUR_WHEELER",
         "0",
         "1200",
         "0",
         "560075.0",
         "15000",
         "75000",
         "AP"
        ],
        [
         "3",
         "ff808081470c6454014715eaa5960281",
         "BHK3",
         "09-03-2017 22:16",
         "2",
         "3",
         "4.0",
         "SEMI_FURNISHED",
         "0",
         "12.88816886",
         "77.59128199",
         "ANYONE",
         "0",
         "Arakere",
         "BOTH",
         "1",
         "1300",
         "0",
         "560076.0",
         "17000",
         "150000",
         "AP"
        ],
        [
         "4",
         "ff808081474aa867014771a0298f0aa6",
         "BHK1",
         "15-03-2017 18:29",
         "1",
         "1",
         "2.0",
         "SEMI_FURNISHED",
         "0",
         "12.99024289",
         "77.71296243",
         "ANYONE",
         "0",
         "Hoodi",
         "BOTH",
         "4",
         "450",
         "0",
         "560048.0",
         "6500",
         "40000",
         "IF"
        ]
       ],
       "shape": {
        "columns": 21,
        "rows": 5
       }
      },
      "text/html": [
       "<div>\n",
       "<style scoped>\n",
       "    .dataframe tbody tr th:only-of-type {\n",
       "        vertical-align: middle;\n",
       "    }\n",
       "\n",
       "    .dataframe tbody tr th {\n",
       "        vertical-align: top;\n",
       "    }\n",
       "\n",
       "    .dataframe thead th {\n",
       "        text-align: right;\n",
       "    }\n",
       "</style>\n",
       "<table border=\"1\" class=\"dataframe\">\n",
       "  <thead>\n",
       "    <tr style=\"text-align: right;\">\n",
       "      <th></th>\n",
       "      <th>property_id</th>\n",
       "      <th>type</th>\n",
       "      <th>activation_date</th>\n",
       "      <th>bathroom</th>\n",
       "      <th>floor</th>\n",
       "      <th>total_floor</th>\n",
       "      <th>furnishing</th>\n",
       "      <th>gym</th>\n",
       "      <th>latitude</th>\n",
       "      <th>longitude</th>\n",
       "      <th>lease_type</th>\n",
       "      <th>lift</th>\n",
       "      <th>locality</th>\n",
       "      <th>parking</th>\n",
       "      <th>property_age</th>\n",
       "      <th>property_size</th>\n",
       "      <th>swimming_pool</th>\n",
       "      <th>pin_code</th>\n",
       "      <th>rent</th>\n",
       "      <th>deposit</th>\n",
       "      <th>building_type</th>\n",
       "    </tr>\n",
       "  </thead>\n",
       "  <tbody>\n",
       "    <tr>\n",
       "      <th>0</th>\n",
       "      <td>ff808081469fd6e20146a5af948000ea</td>\n",
       "      <td>BHK2</td>\n",
       "      <td>09-03-2017 14:36</td>\n",
       "      <td>1</td>\n",
       "      <td>3</td>\n",
       "      <td>4.0</td>\n",
       "      <td>SEMI_FURNISHED</td>\n",
       "      <td>1</td>\n",
       "      <td>12.876174</td>\n",
       "      <td>77.596571</td>\n",
       "      <td>FAMILY</td>\n",
       "      <td>1</td>\n",
       "      <td>Hulimavu</td>\n",
       "      <td>BOTH</td>\n",
       "      <td>2</td>\n",
       "      <td>850</td>\n",
       "      <td>1</td>\n",
       "      <td>560076.0</td>\n",
       "      <td>12000</td>\n",
       "      <td>120000</td>\n",
       "      <td>AP</td>\n",
       "    </tr>\n",
       "    <tr>\n",
       "      <th>1</th>\n",
       "      <td>ff8080814702d3d10147068359d200cd</td>\n",
       "      <td>BHK2</td>\n",
       "      <td>07-03-2017 12:02</td>\n",
       "      <td>2</td>\n",
       "      <td>4</td>\n",
       "      <td>11.0</td>\n",
       "      <td>SEMI_FURNISHED</td>\n",
       "      <td>1</td>\n",
       "      <td>13.018444</td>\n",
       "      <td>77.678122</td>\n",
       "      <td>FAMILY</td>\n",
       "      <td>1</td>\n",
       "      <td>Ramamurthy Nagar</td>\n",
       "      <td>BOTH</td>\n",
       "      <td>1</td>\n",
       "      <td>1233</td>\n",
       "      <td>1</td>\n",
       "      <td>560016.0</td>\n",
       "      <td>20000</td>\n",
       "      <td>150000</td>\n",
       "      <td>AP</td>\n",
       "    </tr>\n",
       "    <tr>\n",
       "      <th>2</th>\n",
       "      <td>ff808081470c645401470fb03f5800a6</td>\n",
       "      <td>BHK2</td>\n",
       "      <td>10-03-2017 13:43</td>\n",
       "      <td>2</td>\n",
       "      <td>0</td>\n",
       "      <td>4.0</td>\n",
       "      <td>NOT_FURNISHED</td>\n",
       "      <td>1</td>\n",
       "      <td>12.975072</td>\n",
       "      <td>77.665865</td>\n",
       "      <td>ANYONE</td>\n",
       "      <td>1</td>\n",
       "      <td>GM Palya</td>\n",
       "      <td>FOUR_WHEELER</td>\n",
       "      <td>0</td>\n",
       "      <td>1200</td>\n",
       "      <td>0</td>\n",
       "      <td>560075.0</td>\n",
       "      <td>15000</td>\n",
       "      <td>75000</td>\n",
       "      <td>AP</td>\n",
       "    </tr>\n",
       "    <tr>\n",
       "      <th>3</th>\n",
       "      <td>ff808081470c6454014715eaa5960281</td>\n",
       "      <td>BHK3</td>\n",
       "      <td>09-03-2017 22:16</td>\n",
       "      <td>2</td>\n",
       "      <td>3</td>\n",
       "      <td>4.0</td>\n",
       "      <td>SEMI_FURNISHED</td>\n",
       "      <td>0</td>\n",
       "      <td>12.888169</td>\n",
       "      <td>77.591282</td>\n",
       "      <td>ANYONE</td>\n",
       "      <td>0</td>\n",
       "      <td>Arakere</td>\n",
       "      <td>BOTH</td>\n",
       "      <td>1</td>\n",
       "      <td>1300</td>\n",
       "      <td>0</td>\n",
       "      <td>560076.0</td>\n",
       "      <td>17000</td>\n",
       "      <td>150000</td>\n",
       "      <td>AP</td>\n",
       "    </tr>\n",
       "    <tr>\n",
       "      <th>4</th>\n",
       "      <td>ff808081474aa867014771a0298f0aa6</td>\n",
       "      <td>BHK1</td>\n",
       "      <td>15-03-2017 18:29</td>\n",
       "      <td>1</td>\n",
       "      <td>1</td>\n",
       "      <td>2.0</td>\n",
       "      <td>SEMI_FURNISHED</td>\n",
       "      <td>0</td>\n",
       "      <td>12.990243</td>\n",
       "      <td>77.712962</td>\n",
       "      <td>ANYONE</td>\n",
       "      <td>0</td>\n",
       "      <td>Hoodi</td>\n",
       "      <td>BOTH</td>\n",
       "      <td>4</td>\n",
       "      <td>450</td>\n",
       "      <td>0</td>\n",
       "      <td>560048.0</td>\n",
       "      <td>6500</td>\n",
       "      <td>40000</td>\n",
       "      <td>IF</td>\n",
       "    </tr>\n",
       "  </tbody>\n",
       "</table>\n",
       "</div>"
      ],
      "text/plain": [
       "                        property_id  type   activation_date  bathroom  floor  \\\n",
       "0  ff808081469fd6e20146a5af948000ea  BHK2  09-03-2017 14:36         1      3   \n",
       "1  ff8080814702d3d10147068359d200cd  BHK2  07-03-2017 12:02         2      4   \n",
       "2  ff808081470c645401470fb03f5800a6  BHK2  10-03-2017 13:43         2      0   \n",
       "3  ff808081470c6454014715eaa5960281  BHK3  09-03-2017 22:16         2      3   \n",
       "4  ff808081474aa867014771a0298f0aa6  BHK1  15-03-2017 18:29         1      1   \n",
       "\n",
       "   total_floor      furnishing  gym   latitude  longitude lease_type  lift  \\\n",
       "0          4.0  SEMI_FURNISHED    1  12.876174  77.596571     FAMILY     1   \n",
       "1         11.0  SEMI_FURNISHED    1  13.018444  77.678122     FAMILY     1   \n",
       "2          4.0   NOT_FURNISHED    1  12.975072  77.665865     ANYONE     1   \n",
       "3          4.0  SEMI_FURNISHED    0  12.888169  77.591282     ANYONE     0   \n",
       "4          2.0  SEMI_FURNISHED    0  12.990243  77.712962     ANYONE     0   \n",
       "\n",
       "           locality       parking  property_age  property_size  swimming_pool  \\\n",
       "0          Hulimavu          BOTH             2            850              1   \n",
       "1  Ramamurthy Nagar          BOTH             1           1233              1   \n",
       "2          GM Palya  FOUR_WHEELER             0           1200              0   \n",
       "3           Arakere          BOTH             1           1300              0   \n",
       "4             Hoodi          BOTH             4            450              0   \n",
       "\n",
       "   pin_code   rent  deposit building_type  \n",
       "0  560076.0  12000   120000            AP  \n",
       "1  560016.0  20000   150000            AP  \n",
       "2  560075.0  15000    75000            AP  \n",
       "3  560076.0  17000   150000            AP  \n",
       "4  560048.0   6500    40000            IF  "
      ]
     },
     "execution_count": 42,
     "metadata": {},
     "output_type": "execute_result"
    }
   ],
   "source": [
    "property_data.head()"
   ]
  },
  {
   "cell_type": "code",
   "execution_count": 43,
   "metadata": {},
   "outputs": [
    {
     "data": {
      "application/vnd.microsoft.datawrangler.viewer.v0+json": {
       "columns": [
        {
         "name": "index",
         "rawType": "int64",
         "type": "integer"
        },
        {
         "name": "property_id",
         "rawType": "object",
         "type": "string"
        },
        {
         "name": "request_date",
         "rawType": "object",
         "type": "string"
        }
       ],
       "conversionMethod": "pd.DataFrame",
       "ref": "e5ea3553-3c95-441d-bddc-3704743e079c",
       "rows": [
        [
         "0",
         "ff808081469fd6e20146a5af948000ea",
         "2017-03-10 17:42:34"
        ],
        [
         "1",
         "ff808081469fd6e20146a5af948000ea",
         "2017-03-09 15:51:17"
        ],
        [
         "2",
         "ff808081469fd6e20146a5af948000ea",
         "2017-03-10 17:30:22"
        ],
        [
         "3",
         "ff808081469fd6e20146a5af948000ea",
         "2017-03-11 17:48:46"
        ],
        [
         "4",
         "ff8080814702d3d10147068359d200cd",
         "2017-03-30 19:59:15"
        ],
        [
         "5",
         "ff8080814702d3d10147068359d200cd",
         "2017-03-13 00:18:47"
        ],
        [
         "6",
         "ff8080814702d3d10147068359d200cd",
         "2017-03-18 22:54:01"
        ],
        [
         "7",
         "ff8080814702d3d10147068359d200cd",
         "2017-03-14 19:04:26"
        ],
        [
         "8",
         "ff8080814702d3d10147068359d200cd",
         "2017-03-18 13:38:11"
        ],
        [
         "9",
         "ff8080814702d3d10147068359d200cd",
         "2017-03-28 09:57:10"
        ],
        [
         "10",
         "ff8080814702d3d10147068359d200cd",
         "2017-03-08 22:30:59"
        ],
        [
         "11",
         "ff8080814702d3d10147068359d200cd",
         "2017-03-10 19:13:04"
        ],
        [
         "12",
         "ff8080814702d3d10147068359d200cd",
         "2017-04-10 19:36:47"
        ],
        [
         "13",
         "ff8080814702d3d10147068359d200cd",
         "2017-03-25 12:09:41"
        ],
        [
         "14",
         "ff8080814702d3d10147068359d200cd",
         "2017-03-08 21:04:23"
        ],
        [
         "15",
         "ff8080814702d3d10147068359d200cd",
         "2017-03-08 13:53:11"
        ],
        [
         "16",
         "ff808081470c645401470fb03f5800a6",
         "2017-03-11 09:41:29"
        ],
        [
         "17",
         "ff808081470c645401470fb03f5800a6",
         "2017-03-13 18:13:44"
        ],
        [
         "18",
         "ff808081470c645401470fb03f5800a6",
         "2017-03-12 16:48:34"
        ],
        [
         "19",
         "ff808081470c645401470fb03f5800a6",
         "2017-03-11 19:11:45"
        ],
        [
         "20",
         "ff808081470c645401470fb03f5800a6",
         "2017-03-10 16:01:16"
        ],
        [
         "21",
         "ff808081470c645401470fb03f5800a6",
         "2017-03-12 10:31:57"
        ],
        [
         "22",
         "ff808081470c645401470fb03f5800a6",
         "2017-03-11 15:11:17"
        ],
        [
         "23",
         "ff808081470c645401470fb03f5800a6",
         "2017-03-15 17:01:11"
        ],
        [
         "24",
         "ff808081470c645401470fb03f5800a6",
         "2017-03-14 22:35:31"
        ],
        [
         "25",
         "ff808081470c645401470fb03f5800a6",
         "2017-03-12 09:10:50"
        ],
        [
         "26",
         "ff808081470c645401470fb03f5800a6",
         "2017-03-10 16:50:08"
        ],
        [
         "27",
         "ff808081470c645401470fb03f5800a6",
         "2017-03-14 22:54:01"
        ],
        [
         "28",
         "ff808081470c645401470fb03f5800a6",
         "2017-03-12 14:19:00"
        ],
        [
         "29",
         "ff808081470c645401470fb03f5800a6",
         "2017-03-19 11:45:52"
        ],
        [
         "30",
         "ff808081470c645401470fb03f5800a6",
         "2017-03-12 13:37:56"
        ],
        [
         "31",
         "ff808081470c645401470fb03f5800a6",
         "2017-03-18 13:40:29"
        ],
        [
         "32",
         "ff808081470c645401470fb03f5800a6",
         "2017-03-13 18:03:01"
        ],
        [
         "33",
         "ff808081470c645401470fb03f5800a6",
         "2017-03-16 14:04:15"
        ],
        [
         "34",
         "ff808081470c645401470fb03f5800a6",
         "2017-03-18 17:40:36"
        ],
        [
         "35",
         "ff808081470c645401470fb03f5800a6",
         "2017-03-14 09:53:39"
        ],
        [
         "36",
         "ff808081470c645401470fb03f5800a6",
         "2017-03-18 18:03:10"
        ],
        [
         "37",
         "ff808081470c645401470fb03f5800a6",
         "2017-03-18 21:44:52"
        ],
        [
         "38",
         "ff808081470c645401470fb03f5800a6",
         "2017-03-10 15:31:53"
        ],
        [
         "39",
         "ff808081470c645401470fb03f5800a6",
         "2017-03-11 21:33:06"
        ],
        [
         "40",
         "ff808081470c645401470fb03f5800a6",
         "2017-03-11 11:37:03"
        ],
        [
         "41",
         "ff808081470c645401470fb03f5800a6",
         "2017-03-11 13:29:10"
        ],
        [
         "42",
         "ff808081470c645401470fb03f5800a6",
         "2017-03-11 19:32:21"
        ],
        [
         "43",
         "ff808081470c6454014715eaa5960281",
         "2017-03-16 12:38:42"
        ],
        [
         "44",
         "ff808081470c6454014715eaa5960281",
         "2017-03-10 14:09:17"
        ],
        [
         "45",
         "ff808081470c6454014715eaa5960281",
         "2017-04-13 11:28:08"
        ],
        [
         "46",
         "ff808081470c6454014715eaa5960281",
         "2017-03-10 13:02:33"
        ],
        [
         "47",
         "ff808081470c6454014715eaa5960281",
         "2017-03-15 13:14:46"
        ],
        [
         "48",
         "ff808081470c6454014715eaa5960281",
         "2017-04-10 05:18:15"
        ],
        [
         "49",
         "ff808081470c6454014715eaa5960281",
         "2017-04-09 14:54:27"
        ]
       ],
       "shape": {
        "columns": 2,
        "rows": 170611
       }
      },
      "text/html": [
       "<div>\n",
       "<style scoped>\n",
       "    .dataframe tbody tr th:only-of-type {\n",
       "        vertical-align: middle;\n",
       "    }\n",
       "\n",
       "    .dataframe tbody tr th {\n",
       "        vertical-align: top;\n",
       "    }\n",
       "\n",
       "    .dataframe thead th {\n",
       "        text-align: right;\n",
       "    }\n",
       "</style>\n",
       "<table border=\"1\" class=\"dataframe\">\n",
       "  <thead>\n",
       "    <tr style=\"text-align: right;\">\n",
       "      <th></th>\n",
       "      <th>property_id</th>\n",
       "      <th>request_date</th>\n",
       "    </tr>\n",
       "  </thead>\n",
       "  <tbody>\n",
       "    <tr>\n",
       "      <th>0</th>\n",
       "      <td>ff808081469fd6e20146a5af948000ea</td>\n",
       "      <td>2017-03-10 17:42:34</td>\n",
       "    </tr>\n",
       "    <tr>\n",
       "      <th>1</th>\n",
       "      <td>ff808081469fd6e20146a5af948000ea</td>\n",
       "      <td>2017-03-09 15:51:17</td>\n",
       "    </tr>\n",
       "    <tr>\n",
       "      <th>2</th>\n",
       "      <td>ff808081469fd6e20146a5af948000ea</td>\n",
       "      <td>2017-03-10 17:30:22</td>\n",
       "    </tr>\n",
       "    <tr>\n",
       "      <th>3</th>\n",
       "      <td>ff808081469fd6e20146a5af948000ea</td>\n",
       "      <td>2017-03-11 17:48:46</td>\n",
       "    </tr>\n",
       "    <tr>\n",
       "      <th>4</th>\n",
       "      <td>ff8080814702d3d10147068359d200cd</td>\n",
       "      <td>2017-03-30 19:59:15</td>\n",
       "    </tr>\n",
       "    <tr>\n",
       "      <th>...</th>\n",
       "      <td>...</td>\n",
       "      <td>...</td>\n",
       "    </tr>\n",
       "    <tr>\n",
       "      <th>170606</th>\n",
       "      <td>ff8081815b2007fc015b201c77a20395</td>\n",
       "      <td>2017-04-03 16:13:55</td>\n",
       "    </tr>\n",
       "    <tr>\n",
       "      <th>170607</th>\n",
       "      <td>ff8081815b2007fc015b201c77a20395</td>\n",
       "      <td>2017-04-02 21:54:14</td>\n",
       "    </tr>\n",
       "    <tr>\n",
       "      <th>170608</th>\n",
       "      <td>ff8081815b2007fc015b201c77a20395</td>\n",
       "      <td>2017-04-09 11:33:14</td>\n",
       "    </tr>\n",
       "    <tr>\n",
       "      <th>170609</th>\n",
       "      <td>ff8081815b2007fc015b201c77a20395</td>\n",
       "      <td>2017-04-04 10:01:12</td>\n",
       "    </tr>\n",
       "    <tr>\n",
       "      <th>170610</th>\n",
       "      <td>ff8081815b2007fc015b201c77a20395</td>\n",
       "      <td>2017-03-31 11:15:06</td>\n",
       "    </tr>\n",
       "  </tbody>\n",
       "</table>\n",
       "<p>170611 rows × 2 columns</p>\n",
       "</div>"
      ],
      "text/plain": [
       "                             property_id         request_date\n",
       "0       ff808081469fd6e20146a5af948000ea  2017-03-10 17:42:34\n",
       "1       ff808081469fd6e20146a5af948000ea  2017-03-09 15:51:17\n",
       "2       ff808081469fd6e20146a5af948000ea  2017-03-10 17:30:22\n",
       "3       ff808081469fd6e20146a5af948000ea  2017-03-11 17:48:46\n",
       "4       ff8080814702d3d10147068359d200cd  2017-03-30 19:59:15\n",
       "...                                  ...                  ...\n",
       "170606  ff8081815b2007fc015b201c77a20395  2017-04-03 16:13:55\n",
       "170607  ff8081815b2007fc015b201c77a20395  2017-04-02 21:54:14\n",
       "170608  ff8081815b2007fc015b201c77a20395  2017-04-09 11:33:14\n",
       "170609  ff8081815b2007fc015b201c77a20395  2017-04-04 10:01:12\n",
       "170610  ff8081815b2007fc015b201c77a20395  2017-03-31 11:15:06\n",
       "\n",
       "[170611 rows x 2 columns]"
      ]
     },
     "execution_count": 43,
     "metadata": {},
     "output_type": "execute_result"
    }
   ],
   "source": [
    "property_interactions"
   ]
  },
  {
   "cell_type": "code",
   "execution_count": 44,
   "metadata": {},
   "outputs": [],
   "source": [
    "def fix_photo_element(photo_element):\n",
    "    if not photo_element: \n",
    "        return 0\n",
    "    photo_element = photo_element.replace(\"\\\\\",'') \n",
    "    photo_element = re.sub(\"title\",r'\"title',photo_element,count=1).strip(\"\\\"\")\n",
    "    return len(json.loads(photo_element))"
   ]
  },
  {
   "cell_type": "code",
   "execution_count": 45,
   "metadata": {},
   "outputs": [],
   "source": [
    "property_photos['photo_urls'] = property_photos['photo_urls'].fillna(value='')\n",
    "property_photos['photo_count'] = property_photos['photo_urls'].apply(fix_photo_element)"
   ]
  },
  {
   "cell_type": "code",
   "execution_count": 46,
   "metadata": {},
   "outputs": [],
   "source": [
    "property_photos = property_photos.groupby('property_id')['photo_count'].sum().reset_index()"
   ]
  },
  {
   "cell_type": "code",
   "execution_count": 47,
   "metadata": {},
   "outputs": [],
   "source": [
    "property_data['activation_date'] = pd.to_datetime(property_data['activation_date'], format = '%d-%m-%Y %H:%M')\n",
    "property_interactions['request_date'] = pd.to_datetime(property_interactions['request_date'], format = '%Y-%m-%d %H:%M:%S')"
   ]
  },
  {
   "cell_type": "code",
   "execution_count": 48,
   "metadata": {},
   "outputs": [],
   "source": [
    "num_req = pd.merge(\n",
    "    property_data[[\"property_id\", \"activation_date\"]],\n",
    "    property_interactions,\n",
    "    on=\"property_id\",\n",
    "    how=\"left\",\n",
    ")"
   ]
  },
  {
   "cell_type": "code",
   "execution_count": 49,
   "metadata": {},
   "outputs": [],
   "source": [
    "num_req['request_day'] = num_req['request_date'] - num_req['activation_date']\n",
    "\n",
    "num_req['request_day'] = num_req['request_day'].dt.total_seconds() / (60 * 60 * 24)"
   ]
  },
  {
   "cell_type": "code",
   "execution_count": 50,
   "metadata": {},
   "outputs": [],
   "source": [
    "num_req['within_three_flag'] = num_req['request_day'] <= 3 \n",
    "num_req['within_seven_flag'] = num_req['request_day'] <= 7 "
   ]
  },
  {
   "cell_type": "code",
   "execution_count": 51,
   "metadata": {},
   "outputs": [],
   "source": [
    "request_day_within_3d = (\n",
    "    num_req.groupby(\"property_id\")\n",
    "    .agg({\"within_three_flag\": \"sum\"})\n",
    "    .reset_index()\n",
    "    .rename(columns={\"within_three_flag\": \"request_day_within_3d\"})\n",
    ")\n",
    "\n",
    "\n",
    "request_day_within_7d = (\n",
    "    num_req.groupby(\"property_id\")\n",
    "    .agg({\"within_three_flag\": \"sum\"})\n",
    "    .reset_index()\n",
    "    .rename(columns={\"within_three_flag\": \"request_day_within_7d\"})\n",
    ")"
   ]
  },
  {
   "cell_type": "code",
   "execution_count": 52,
   "metadata": {},
   "outputs": [
    {
     "data": {
      "application/vnd.microsoft.datawrangler.viewer.v0+json": {
       "columns": [
        {
         "name": "index",
         "rawType": "int64",
         "type": "integer"
        },
        {
         "name": "property_id",
         "rawType": "object",
         "type": "string"
        },
        {
         "name": "request_day_within_3d",
         "rawType": "int64",
         "type": "integer"
        }
       ],
       "conversionMethod": "pd.DataFrame",
       "ref": "ca4ec736-9599-4701-b526-2a587389d9cd",
       "rows": [
        [
         "0",
         "ff808081469fd6e20146a5af948000ea",
         "4"
        ],
        [
         "1",
         "ff8080814702d3d10147068359d200cd",
         "3"
        ],
        [
         "2",
         "ff808081470c645401470fb03f5800a6",
         "15"
        ],
        [
         "3",
         "ff808081470c6454014715eaa5960281",
         "5"
        ],
        [
         "4",
         "ff808081474aa867014771a0298f0aa6",
         "25"
        ],
        [
         "5",
         "ff8080814780f30801478d14132f03f4",
         "0"
        ],
        [
         "6",
         "ff8080814780f308014797c79000082e",
         "2"
        ],
        [
         "7",
         "ff80808147a95f0a0147ab0d88fa0080",
         "3"
        ],
        [
         "8",
         "ff80808147ac6af10147afc279480099",
         "1"
        ],
        [
         "9",
         "ff80808147cbdc2a0147cf8577880153",
         "5"
        ],
        [
         "10",
         "ff80808147d872840147da61190c01c2",
         "0"
        ],
        [
         "11",
         "ff80808147ed5e680147f326ca4c02d2",
         "7"
        ],
        [
         "12",
         "ff80808147ed5e680147f5206d970403",
         "0"
        ],
        [
         "13",
         "ff80808147ed5e6801480d0144220ec4",
         "1"
        ],
        [
         "14",
         "ff80808147ed5e68014810c42dba0ff0",
         "24"
        ],
        [
         "15",
         "ff80808147ed5e68014815e91cd0125a",
         "1"
        ],
        [
         "16",
         "ff80808147ed5e68014816e46898133f",
         "1"
        ],
        [
         "17",
         "ff808081482565740148261980670079",
         "0"
        ],
        [
         "18",
         "ff808081482565740148312a4c1c0591",
         "0"
        ],
        [
         "19",
         "ff808081483cf6a50148447ec4a702e3",
         "0"
        ],
        [
         "20",
         "ff808081483cf6a50148457c37c8036a",
         "6"
        ],
        [
         "21",
         "ff808081483cf6a501484ada8d1b05e3",
         "4"
        ],
        [
         "22",
         "ff808081485677b101485a6921bd01ae",
         "1"
        ],
        [
         "23",
         "ff808081485677b101485a6f3b6b01b0",
         "5"
        ],
        [
         "24",
         "ff808081485677b101485ae9ee5e01ec",
         "1"
        ],
        [
         "25",
         "ff808081485677b101485af0731101f2",
         "1"
        ],
        [
         "26",
         "ff808081485677b1014868d69e7607ec",
         "0"
        ],
        [
         "27",
         "ff808081486e6af00148744180fd02b1",
         "12"
        ],
        [
         "28",
         "ff808081486e6af0014878df914a0511",
         "0"
        ],
        [
         "29",
         "ff808081487ed979014881d92fb9011f",
         "2"
        ],
        [
         "30",
         "ff808081487ed9790148892b58c40694",
         "0"
        ],
        [
         "31",
         "ff808081488f1fd5014892d08f9701ae",
         "0"
        ],
        [
         "32",
         "ff808081488f1fd50148939038520277",
         "0"
        ],
        [
         "33",
         "ff8080814897819b014899584ce301c6",
         "1"
        ],
        [
         "34",
         "ff8080814897819b01489bcf4828024b",
         "3"
        ],
        [
         "35",
         "ff80808148af4d480148b046d1b2001f",
         "4"
        ],
        [
         "36",
         "ff80808148af4d480148b11c711a00f3",
         "2"
        ],
        [
         "37",
         "ff80808148bd7a1d0148c0ea594a01ac",
         "2"
        ],
        [
         "38",
         "ff80808148c7fbee0148cf9b8a3e0334",
         "5"
        ],
        [
         "39",
         "ff80808148c7fbee0148cfc0fbf6036a",
         "1"
        ],
        [
         "40",
         "ff80808148d5e8280148ea6b36060a0c",
         "2"
        ],
        [
         "41",
         "ff80808148f81af60148f88b69c60062",
         "4"
        ],
        [
         "42",
         "ff8080814902be640149095852cf05ae",
         "0"
        ],
        [
         "43",
         "ff8080814909c63c01490d3c81240161",
         "0"
        ],
        [
         "44",
         "ff8080814909c63c01490d60fda20188",
         "4"
        ],
        [
         "45",
         "ff8080814924654401492bfe03f502e9",
         "0"
        ],
        [
         "46",
         "ff808081492465440149328ba50a0664",
         "1"
        ],
        [
         "47",
         "ff8080814924654401493659b1910786",
         "3"
        ],
        [
         "48",
         "ff80808149246544014936c5b7c30802",
         "0"
        ],
        [
         "49",
         "ff80808149393cef01495551f1d70ee8",
         "0"
        ]
       ],
       "shape": {
        "columns": 2,
        "rows": 28888
       }
      },
      "text/html": [
       "<div>\n",
       "<style scoped>\n",
       "    .dataframe tbody tr th:only-of-type {\n",
       "        vertical-align: middle;\n",
       "    }\n",
       "\n",
       "    .dataframe tbody tr th {\n",
       "        vertical-align: top;\n",
       "    }\n",
       "\n",
       "    .dataframe thead th {\n",
       "        text-align: right;\n",
       "    }\n",
       "</style>\n",
       "<table border=\"1\" class=\"dataframe\">\n",
       "  <thead>\n",
       "    <tr style=\"text-align: right;\">\n",
       "      <th></th>\n",
       "      <th>property_id</th>\n",
       "      <th>request_day_within_3d</th>\n",
       "    </tr>\n",
       "  </thead>\n",
       "  <tbody>\n",
       "    <tr>\n",
       "      <th>0</th>\n",
       "      <td>ff808081469fd6e20146a5af948000ea</td>\n",
       "      <td>4</td>\n",
       "    </tr>\n",
       "    <tr>\n",
       "      <th>1</th>\n",
       "      <td>ff8080814702d3d10147068359d200cd</td>\n",
       "      <td>3</td>\n",
       "    </tr>\n",
       "    <tr>\n",
       "      <th>2</th>\n",
       "      <td>ff808081470c645401470fb03f5800a6</td>\n",
       "      <td>15</td>\n",
       "    </tr>\n",
       "    <tr>\n",
       "      <th>3</th>\n",
       "      <td>ff808081470c6454014715eaa5960281</td>\n",
       "      <td>5</td>\n",
       "    </tr>\n",
       "    <tr>\n",
       "      <th>4</th>\n",
       "      <td>ff808081474aa867014771a0298f0aa6</td>\n",
       "      <td>25</td>\n",
       "    </tr>\n",
       "    <tr>\n",
       "      <th>...</th>\n",
       "      <td>...</td>\n",
       "      <td>...</td>\n",
       "    </tr>\n",
       "    <tr>\n",
       "      <th>28883</th>\n",
       "      <td>ff8081815b1fdda8015b1fe675ae0146</td>\n",
       "      <td>5</td>\n",
       "    </tr>\n",
       "    <tr>\n",
       "      <th>28884</th>\n",
       "      <td>ff8081815b1fdda8015b1ffee8a305d2</td>\n",
       "      <td>2</td>\n",
       "    </tr>\n",
       "    <tr>\n",
       "      <th>28885</th>\n",
       "      <td>ff8081815b1fdda8015b2000369205fd</td>\n",
       "      <td>0</td>\n",
       "    </tr>\n",
       "    <tr>\n",
       "      <th>28886</th>\n",
       "      <td>ff8081815b200540015b20158b0103c9</td>\n",
       "      <td>2</td>\n",
       "    </tr>\n",
       "    <tr>\n",
       "      <th>28887</th>\n",
       "      <td>ff8081815b2007fc015b201c77a20395</td>\n",
       "      <td>2</td>\n",
       "    </tr>\n",
       "  </tbody>\n",
       "</table>\n",
       "<p>28888 rows × 2 columns</p>\n",
       "</div>"
      ],
      "text/plain": [
       "                            property_id  request_day_within_3d\n",
       "0      ff808081469fd6e20146a5af948000ea                      4\n",
       "1      ff8080814702d3d10147068359d200cd                      3\n",
       "2      ff808081470c645401470fb03f5800a6                     15\n",
       "3      ff808081470c6454014715eaa5960281                      5\n",
       "4      ff808081474aa867014771a0298f0aa6                     25\n",
       "...                                 ...                    ...\n",
       "28883  ff8081815b1fdda8015b1fe675ae0146                      5\n",
       "28884  ff8081815b1fdda8015b1ffee8a305d2                      2\n",
       "28885  ff8081815b1fdda8015b2000369205fd                      0\n",
       "28886  ff8081815b200540015b20158b0103c9                      2\n",
       "28887  ff8081815b2007fc015b201c77a20395                      2\n",
       "\n",
       "[28888 rows x 2 columns]"
      ]
     },
     "execution_count": 52,
     "metadata": {},
     "output_type": "execute_result"
    }
   ],
   "source": [
    "request_day_within_3d"
   ]
  },
  {
   "cell_type": "code",
   "execution_count": 53,
   "metadata": {},
   "outputs": [
    {
     "data": {
      "application/vnd.microsoft.datawrangler.viewer.v0+json": {
       "columns": [
        {
         "name": "index",
         "rawType": "int64",
         "type": "integer"
        },
        {
         "name": "property_id",
         "rawType": "object",
         "type": "string"
        },
        {
         "name": "request_day_within_7d",
         "rawType": "int64",
         "type": "integer"
        }
       ],
       "conversionMethod": "pd.DataFrame",
       "ref": "89daac20-d20b-49a7-9d1e-d64cee8836f8",
       "rows": [
        [
         "0",
         "ff808081469fd6e20146a5af948000ea",
         "4"
        ],
        [
         "1",
         "ff8080814702d3d10147068359d200cd",
         "3"
        ],
        [
         "2",
         "ff808081470c645401470fb03f5800a6",
         "15"
        ],
        [
         "3",
         "ff808081470c6454014715eaa5960281",
         "5"
        ],
        [
         "4",
         "ff808081474aa867014771a0298f0aa6",
         "25"
        ],
        [
         "5",
         "ff8080814780f30801478d14132f03f4",
         "0"
        ],
        [
         "6",
         "ff8080814780f308014797c79000082e",
         "2"
        ],
        [
         "7",
         "ff80808147a95f0a0147ab0d88fa0080",
         "3"
        ],
        [
         "8",
         "ff80808147ac6af10147afc279480099",
         "1"
        ],
        [
         "9",
         "ff80808147cbdc2a0147cf8577880153",
         "5"
        ],
        [
         "10",
         "ff80808147d872840147da61190c01c2",
         "0"
        ],
        [
         "11",
         "ff80808147ed5e680147f326ca4c02d2",
         "7"
        ],
        [
         "12",
         "ff80808147ed5e680147f5206d970403",
         "0"
        ],
        [
         "13",
         "ff80808147ed5e6801480d0144220ec4",
         "1"
        ],
        [
         "14",
         "ff80808147ed5e68014810c42dba0ff0",
         "24"
        ],
        [
         "15",
         "ff80808147ed5e68014815e91cd0125a",
         "1"
        ],
        [
         "16",
         "ff80808147ed5e68014816e46898133f",
         "1"
        ],
        [
         "17",
         "ff808081482565740148261980670079",
         "0"
        ],
        [
         "18",
         "ff808081482565740148312a4c1c0591",
         "0"
        ],
        [
         "19",
         "ff808081483cf6a50148447ec4a702e3",
         "0"
        ],
        [
         "20",
         "ff808081483cf6a50148457c37c8036a",
         "6"
        ],
        [
         "21",
         "ff808081483cf6a501484ada8d1b05e3",
         "4"
        ],
        [
         "22",
         "ff808081485677b101485a6921bd01ae",
         "1"
        ],
        [
         "23",
         "ff808081485677b101485a6f3b6b01b0",
         "5"
        ],
        [
         "24",
         "ff808081485677b101485ae9ee5e01ec",
         "1"
        ],
        [
         "25",
         "ff808081485677b101485af0731101f2",
         "1"
        ],
        [
         "26",
         "ff808081485677b1014868d69e7607ec",
         "0"
        ],
        [
         "27",
         "ff808081486e6af00148744180fd02b1",
         "12"
        ],
        [
         "28",
         "ff808081486e6af0014878df914a0511",
         "0"
        ],
        [
         "29",
         "ff808081487ed979014881d92fb9011f",
         "2"
        ],
        [
         "30",
         "ff808081487ed9790148892b58c40694",
         "0"
        ],
        [
         "31",
         "ff808081488f1fd5014892d08f9701ae",
         "0"
        ],
        [
         "32",
         "ff808081488f1fd50148939038520277",
         "0"
        ],
        [
         "33",
         "ff8080814897819b014899584ce301c6",
         "1"
        ],
        [
         "34",
         "ff8080814897819b01489bcf4828024b",
         "3"
        ],
        [
         "35",
         "ff80808148af4d480148b046d1b2001f",
         "4"
        ],
        [
         "36",
         "ff80808148af4d480148b11c711a00f3",
         "2"
        ],
        [
         "37",
         "ff80808148bd7a1d0148c0ea594a01ac",
         "2"
        ],
        [
         "38",
         "ff80808148c7fbee0148cf9b8a3e0334",
         "5"
        ],
        [
         "39",
         "ff80808148c7fbee0148cfc0fbf6036a",
         "1"
        ],
        [
         "40",
         "ff80808148d5e8280148ea6b36060a0c",
         "2"
        ],
        [
         "41",
         "ff80808148f81af60148f88b69c60062",
         "4"
        ],
        [
         "42",
         "ff8080814902be640149095852cf05ae",
         "0"
        ],
        [
         "43",
         "ff8080814909c63c01490d3c81240161",
         "0"
        ],
        [
         "44",
         "ff8080814909c63c01490d60fda20188",
         "4"
        ],
        [
         "45",
         "ff8080814924654401492bfe03f502e9",
         "0"
        ],
        [
         "46",
         "ff808081492465440149328ba50a0664",
         "1"
        ],
        [
         "47",
         "ff8080814924654401493659b1910786",
         "3"
        ],
        [
         "48",
         "ff80808149246544014936c5b7c30802",
         "0"
        ],
        [
         "49",
         "ff80808149393cef01495551f1d70ee8",
         "0"
        ]
       ],
       "shape": {
        "columns": 2,
        "rows": 28888
       }
      },
      "text/html": [
       "<div>\n",
       "<style scoped>\n",
       "    .dataframe tbody tr th:only-of-type {\n",
       "        vertical-align: middle;\n",
       "    }\n",
       "\n",
       "    .dataframe tbody tr th {\n",
       "        vertical-align: top;\n",
       "    }\n",
       "\n",
       "    .dataframe thead th {\n",
       "        text-align: right;\n",
       "    }\n",
       "</style>\n",
       "<table border=\"1\" class=\"dataframe\">\n",
       "  <thead>\n",
       "    <tr style=\"text-align: right;\">\n",
       "      <th></th>\n",
       "      <th>property_id</th>\n",
       "      <th>request_day_within_7d</th>\n",
       "    </tr>\n",
       "  </thead>\n",
       "  <tbody>\n",
       "    <tr>\n",
       "      <th>0</th>\n",
       "      <td>ff808081469fd6e20146a5af948000ea</td>\n",
       "      <td>4</td>\n",
       "    </tr>\n",
       "    <tr>\n",
       "      <th>1</th>\n",
       "      <td>ff8080814702d3d10147068359d200cd</td>\n",
       "      <td>3</td>\n",
       "    </tr>\n",
       "    <tr>\n",
       "      <th>2</th>\n",
       "      <td>ff808081470c645401470fb03f5800a6</td>\n",
       "      <td>15</td>\n",
       "    </tr>\n",
       "    <tr>\n",
       "      <th>3</th>\n",
       "      <td>ff808081470c6454014715eaa5960281</td>\n",
       "      <td>5</td>\n",
       "    </tr>\n",
       "    <tr>\n",
       "      <th>4</th>\n",
       "      <td>ff808081474aa867014771a0298f0aa6</td>\n",
       "      <td>25</td>\n",
       "    </tr>\n",
       "    <tr>\n",
       "      <th>...</th>\n",
       "      <td>...</td>\n",
       "      <td>...</td>\n",
       "    </tr>\n",
       "    <tr>\n",
       "      <th>28883</th>\n",
       "      <td>ff8081815b1fdda8015b1fe675ae0146</td>\n",
       "      <td>5</td>\n",
       "    </tr>\n",
       "    <tr>\n",
       "      <th>28884</th>\n",
       "      <td>ff8081815b1fdda8015b1ffee8a305d2</td>\n",
       "      <td>2</td>\n",
       "    </tr>\n",
       "    <tr>\n",
       "      <th>28885</th>\n",
       "      <td>ff8081815b1fdda8015b2000369205fd</td>\n",
       "      <td>0</td>\n",
       "    </tr>\n",
       "    <tr>\n",
       "      <th>28886</th>\n",
       "      <td>ff8081815b200540015b20158b0103c9</td>\n",
       "      <td>2</td>\n",
       "    </tr>\n",
       "    <tr>\n",
       "      <th>28887</th>\n",
       "      <td>ff8081815b2007fc015b201c77a20395</td>\n",
       "      <td>2</td>\n",
       "    </tr>\n",
       "  </tbody>\n",
       "</table>\n",
       "<p>28888 rows × 2 columns</p>\n",
       "</div>"
      ],
      "text/plain": [
       "                            property_id  request_day_within_7d\n",
       "0      ff808081469fd6e20146a5af948000ea                      4\n",
       "1      ff8080814702d3d10147068359d200cd                      3\n",
       "2      ff808081470c645401470fb03f5800a6                     15\n",
       "3      ff808081470c6454014715eaa5960281                      5\n",
       "4      ff808081474aa867014771a0298f0aa6                     25\n",
       "...                                 ...                    ...\n",
       "28883  ff8081815b1fdda8015b1fe675ae0146                      5\n",
       "28884  ff8081815b1fdda8015b1ffee8a305d2                      2\n",
       "28885  ff8081815b1fdda8015b2000369205fd                      0\n",
       "28886  ff8081815b200540015b20158b0103c9                      2\n",
       "28887  ff8081815b2007fc015b201c77a20395                      2\n",
       "\n",
       "[28888 rows x 2 columns]"
      ]
     },
     "execution_count": 53,
     "metadata": {},
     "output_type": "execute_result"
    }
   ],
   "source": [
    "request_day_within_7d"
   ]
  },
  {
   "cell_type": "code",
   "execution_count": 54,
   "metadata": {},
   "outputs": [],
   "source": [
    "\n",
    "    \n",
    "\n",
    "def create_request_bucket(value): \n",
    "    if value == 0: \n",
    "        return 'equals_0' \n",
    "    elif value > 0 and value <= 1: \n",
    "        return '0_to_1'\n",
    "    elif value > 1 and value <= 2: \n",
    "        return '1_to_2'\n",
    "    elif value > 2 and value <= 5: \n",
    "        return '3_to_5' \n",
    "    else: \n",
    "        return 'above_5'\n",
    "    \n"
   ]
  },
  {
   "cell_type": "code",
   "execution_count": 55,
   "metadata": {},
   "outputs": [],
   "source": [
    "request_day_within_3d['3d_class'] = request_day_within_3d['request_day_within_3d'].apply(create_request_bucket) \n",
    "request_day_within_7d['7d_class'] = request_day_within_7d['request_day_within_7d'].apply(create_request_bucket) \n"
   ]
  },
  {
   "cell_type": "code",
   "execution_count": 56,
   "metadata": {},
   "outputs": [],
   "source": [
    "label_data = pd.merge(request_day_within_7d, request_day_within_3d, on='property_id', how = 'left')"
   ]
  },
  {
   "cell_type": "code",
   "execution_count": 57,
   "metadata": {},
   "outputs": [],
   "source": [
    "df = pd.merge(property_data, property_photos, on='property_id', how = 'left')"
   ]
  },
  {
   "cell_type": "code",
   "execution_count": 58,
   "metadata": {},
   "outputs": [],
   "source": [
    "df = pd.merge(df,label_data, on='property_id', how = 'left')"
   ]
  },
  {
   "cell_type": "code",
   "execution_count": 59,
   "metadata": {},
   "outputs": [],
   "source": [
    "locality_mapping = df[['pin_code','locality']].dropna().drop_duplicates()\n",
    "\n",
    "locality_mapping_dict = dict(zip(locality_mapping['locality'], locality_mapping['pin_code']))"
   ]
  },
  {
   "cell_type": "code",
   "execution_count": 60,
   "metadata": {},
   "outputs": [],
   "source": [
    "df['pin_code'] = df['locality'].map(locality_mapping_dict)"
   ]
  },
  {
   "cell_type": "code",
   "execution_count": 61,
   "metadata": {},
   "outputs": [
    {
     "data": {
      "text/plain": [
       "locality\n",
       "Whitefield                                                       745\n",
       "JP Nagar                                                         655\n",
       "Electronic City                                                  630\n",
       "Ramamurthy Nagar                                                 522\n",
       "Marathahalli                                                     494\n",
       "                                                                ... \n",
       "Rajarajeshwari Nagar, Bengaluru, Karnataka, India                  1\n",
       "Chinnayanpalya                                                     1\n",
       "Kondhwa                                                            1\n",
       "GangaNagar                                                         1\n",
       "St Marks Rd, Sampangi Rama Nagar, Bengaluru, Karnataka, India      1\n",
       "Name: count, Length: 2368, dtype: int64"
      ]
     },
     "execution_count": 61,
     "metadata": {},
     "output_type": "execute_result"
    }
   ],
   "source": [
    "df['locality'].value_counts()"
   ]
  },
  {
   "cell_type": "code",
   "execution_count": 62,
   "metadata": {},
   "outputs": [],
   "source": [
    "df = df.drop(columns=['property_id','activation_date','locality','pin_code'])"
   ]
  },
  {
   "cell_type": "code",
   "execution_count": 63,
   "metadata": {},
   "outputs": [
    {
     "data": {
      "application/vnd.microsoft.datawrangler.viewer.v0+json": {
       "columns": [
        {
         "name": "index",
         "rawType": "int64",
         "type": "integer"
        },
        {
         "name": "type",
         "rawType": "object",
         "type": "string"
        },
        {
         "name": "bathroom",
         "rawType": "int64",
         "type": "integer"
        },
        {
         "name": "floor",
         "rawType": "int64",
         "type": "integer"
        },
        {
         "name": "total_floor",
         "rawType": "float64",
         "type": "float"
        },
        {
         "name": "furnishing",
         "rawType": "object",
         "type": "string"
        },
        {
         "name": "gym",
         "rawType": "int64",
         "type": "integer"
        },
        {
         "name": "latitude",
         "rawType": "float64",
         "type": "float"
        },
        {
         "name": "longitude",
         "rawType": "float64",
         "type": "float"
        },
        {
         "name": "lease_type",
         "rawType": "object",
         "type": "string"
        },
        {
         "name": "lift",
         "rawType": "int64",
         "type": "integer"
        },
        {
         "name": "parking",
         "rawType": "object",
         "type": "string"
        },
        {
         "name": "property_age",
         "rawType": "int64",
         "type": "integer"
        },
        {
         "name": "property_size",
         "rawType": "int64",
         "type": "integer"
        },
        {
         "name": "swimming_pool",
         "rawType": "int64",
         "type": "integer"
        },
        {
         "name": "rent",
         "rawType": "int64",
         "type": "integer"
        },
        {
         "name": "deposit",
         "rawType": "int64",
         "type": "integer"
        },
        {
         "name": "building_type",
         "rawType": "object",
         "type": "unknown"
        },
        {
         "name": "photo_count",
         "rawType": "int64",
         "type": "integer"
        },
        {
         "name": "request_day_within_7d",
         "rawType": "int64",
         "type": "integer"
        },
        {
         "name": "7d_class",
         "rawType": "object",
         "type": "string"
        },
        {
         "name": "request_day_within_3d",
         "rawType": "int64",
         "type": "integer"
        },
        {
         "name": "3d_class",
         "rawType": "object",
         "type": "string"
        }
       ],
       "conversionMethod": "pd.DataFrame",
       "ref": "12b4d3da-1bd0-4c9a-983c-2cb978b995e2",
       "rows": [
        [
         "0",
         "BHK2",
         "1",
         "3",
         "4.0",
         "SEMI_FURNISHED",
         "1",
         "12.87617415",
         "77.59657101",
         "FAMILY",
         "1",
         "BOTH",
         "2",
         "850",
         "1",
         "12000",
         "120000",
         "AP",
         "7",
         "4",
         "3_to_5",
         "4",
         "3_to_5"
        ],
        [
         "1",
         "BHK2",
         "2",
         "4",
         "11.0",
         "SEMI_FURNISHED",
         "1",
         "13.0184435",
         "77.6781215",
         "FAMILY",
         "1",
         "BOTH",
         "1",
         "1233",
         "1",
         "20000",
         "150000",
         "AP",
         "0",
         "3",
         "3_to_5",
         "3",
         "3_to_5"
        ],
        [
         "2",
         "BHK2",
         "2",
         "0",
         "4.0",
         "NOT_FURNISHED",
         "1",
         "12.9750721",
         "77.665865",
         "ANYONE",
         "1",
         "FOUR_WHEELER",
         "0",
         "1200",
         "0",
         "15000",
         "75000",
         "AP",
         "12",
         "15",
         "above_5",
         "15",
         "above_5"
        ],
        [
         "3",
         "BHK3",
         "2",
         "3",
         "4.0",
         "SEMI_FURNISHED",
         "0",
         "12.88816886",
         "77.59128199",
         "ANYONE",
         "0",
         "BOTH",
         "1",
         "1300",
         "0",
         "17000",
         "150000",
         "AP",
         "9",
         "5",
         "3_to_5",
         "5",
         "3_to_5"
        ],
        [
         "4",
         "BHK1",
         "1",
         "1",
         "2.0",
         "SEMI_FURNISHED",
         "0",
         "12.99024289",
         "77.71296243",
         "ANYONE",
         "0",
         "BOTH",
         "4",
         "450",
         "0",
         "6500",
         "40000",
         "IF",
         "7",
         "25",
         "above_5",
         "25",
         "above_5"
        ],
        [
         "5",
         "BHK3",
         "2",
         "2",
         "2.0",
         "SEMI_FURNISHED",
         "1",
         "12.93655693",
         "77.558291",
         "ANYONE",
         "0",
         "TWO_WHEELER",
         "8",
         "1200",
         "1",
         "17500",
         "200000",
         "IF",
         "3",
         "0",
         "equals_0",
         "0",
         "equals_0"
        ],
        [
         "6",
         "BHK2",
         "1",
         "1",
         "3.0",
         "SEMI_FURNISHED",
         "1",
         "12.93022886",
         "77.63331054",
         "BACHELOR",
         "1",
         "TWO_WHEELER",
         "5",
         "600",
         "1",
         "20000",
         "100000",
         "IF",
         "5",
         "2",
         "1_to_2",
         "2",
         "1_to_2"
        ],
        [
         "7",
         "BHK2",
         "2",
         "0",
         "5.0",
         "SEMI_FURNISHED",
         "1",
         "12.99250871",
         "77.65895736",
         "ANYONE",
         "1",
         "BOTH",
         "18",
         "800",
         "1",
         "18000",
         "120000",
         "AP",
         "6",
         "3",
         "3_to_5",
         "3",
         "3_to_5"
        ],
        [
         "8",
         "BHK3",
         "3",
         "0",
         "2.0",
         "SEMI_FURNISHED",
         "1",
         "12.97994442",
         "77.53887529",
         "FAMILY",
         "0",
         "BOTH",
         "15",
         "2000",
         "1",
         "25000",
         "250000",
         "IF",
         "12",
         "1",
         "0_to_1",
         "1",
         "0_to_1"
        ],
        [
         "9",
         "BHK2",
         "1",
         "1",
         "2.0",
         "NOT_FURNISHED",
         "1",
         "12.95865423",
         "77.7172075",
         "ANYONE",
         "0",
         "TWO_WHEELER",
         "8",
         "600",
         "0",
         "12000",
         "40000",
         "AP",
         "3",
         "5",
         "3_to_5",
         "5",
         "3_to_5"
        ],
        [
         "10",
         "BHK2",
         "2",
         "0",
         "2.0",
         "SEMI_FURNISHED",
         "1",
         "12.91677657",
         "77.60963147",
         "FAMILY",
         "0",
         "TWO_WHEELER",
         "20",
         "900",
         "0",
         "22000",
         "150000",
         "IF",
         "5",
         "0",
         "equals_0",
         "0",
         "equals_0"
        ],
        [
         "11",
         "RK1",
         "2",
         "3",
         "3.0",
         "SEMI_FURNISHED",
         "0",
         "12.98343008",
         "77.64337632",
         "BACHELOR",
         "0",
         "TWO_WHEELER",
         "10",
         "200",
         "0",
         "6500",
         "20000",
         "IF",
         "0",
         "7",
         "above_5",
         "7",
         "above_5"
        ],
        [
         "12",
         "BHK3",
         "3",
         "4",
         "4.0",
         "SEMI_FURNISHED",
         "1",
         "13.1129006",
         "77.5695336",
         "ANYONE",
         "1",
         "BOTH",
         "4",
         "1521",
         "1",
         "19000",
         "150000",
         "AP",
         "6",
         "0",
         "equals_0",
         "0",
         "equals_0"
        ],
        [
         "13",
         "BHK3",
         "4",
         "6",
         "12.0",
         "SEMI_FURNISHED",
         "1",
         "13.11830253",
         "77.57832128",
         "ANYONE",
         "1",
         "BOTH",
         "9",
         "1965",
         "1",
         "27500",
         "275000",
         "AP",
         "6",
         "1",
         "0_to_1",
         "1",
         "0_to_1"
        ],
        [
         "14",
         "BHK2",
         "2",
         "2",
         "4.0",
         "SEMI_FURNISHED",
         "1",
         "12.9657141",
         "77.7208579",
         "FAMILY",
         "1",
         "BOTH",
         "3",
         "1100",
         "0",
         "17000",
         "50000",
         "AP",
         "1",
         "24",
         "above_5",
         "24",
         "above_5"
        ],
        [
         "15",
         "BHK2",
         "2",
         "2",
         "4.0",
         "SEMI_FURNISHED",
         "0",
         "12.96882423",
         "77.69370446",
         "FAMILY",
         "1",
         "BOTH",
         "4",
         "1000",
         "0",
         "17500",
         "80000",
         "AP",
         "1",
         "1",
         "0_to_1",
         "1",
         "0_to_1"
        ],
        [
         "16",
         "BHK2",
         "1",
         "0",
         "4.0",
         "SEMI_FURNISHED",
         "1",
         "12.88557708",
         "77.64913823",
         "ANYONE",
         "0",
         "NONE",
         "0",
         "950",
         "0",
         "12000",
         "50000",
         "IF",
         "0",
         "1",
         "0_to_1",
         "1",
         "0_to_1"
        ],
        [
         "17",
         "BHK3",
         "3",
         "1",
         "1.0",
         "SEMI_FURNISHED",
         "1",
         "12.94723987",
         "77.67515766",
         "FAMILY",
         "1",
         "BOTH",
         "3",
         "1617",
         "1",
         "33000",
         "150000",
         "AP",
         "7",
         "0",
         "equals_0",
         "0",
         "equals_0"
        ],
        [
         "18",
         "BHK1",
         "1",
         "1",
         "3.0",
         "SEMI_FURNISHED",
         "0",
         "12.87650691",
         "77.67197627",
         "ANYONE",
         "0",
         "TWO_WHEELER",
         "1",
         "500",
         "0",
         "8000",
         "50000",
         "IF",
         "8",
         "0",
         "equals_0",
         "0",
         "equals_0"
        ],
        [
         "19",
         "BHK2",
         "2",
         "0",
         "2.0",
         "SEMI_FURNISHED",
         "0",
         "12.93894321",
         "77.63066994",
         "FAMILY",
         "0",
         "TWO_WHEELER",
         "4",
         "1400",
         "0",
         "18000",
         "100000",
         "AP",
         "4",
         "0",
         "equals_0",
         "0",
         "equals_0"
        ],
        [
         "20",
         "BHK2",
         "1",
         "2",
         "3.0",
         "SEMI_FURNISHED",
         "0",
         "12.9265132",
         "77.6361552",
         "FAMILY",
         "0",
         "TWO_WHEELER",
         "6",
         "750",
         "0",
         "16000",
         "160000",
         "IH",
         "4",
         "6",
         "above_5",
         "6",
         "above_5"
        ],
        [
         "21",
         "BHK2",
         "2",
         "0",
         "2.0",
         "NOT_FURNISHED",
         "0",
         "12.91992521",
         "77.61066461",
         "FAMILY",
         "0",
         "BOTH",
         "6",
         "900",
         "0",
         "17000",
         "100000",
         "IH",
         "5",
         "4",
         "3_to_5",
         "4",
         "3_to_5"
        ],
        [
         "22",
         "RK1",
         "1",
         "3",
         "3.0",
         "NOT_FURNISHED",
         "0",
         "12.95454547",
         "77.73874853",
         "FAMILY",
         "0",
         "BOTH",
         "0",
         "500",
         "0",
         "7000",
         "30000",
         "IF",
         "5",
         "1",
         "0_to_1",
         "1",
         "0_to_1"
        ],
        [
         "23",
         "BHK2",
         "2",
         "1",
         "3.0",
         "SEMI_FURNISHED",
         "1",
         "12.95966852",
         "77.7477982",
         "FAMILY",
         "0",
         "BOTH",
         "1",
         "700",
         "1",
         "14000",
         "50000",
         "AP",
         "4",
         "5",
         "3_to_5",
         "5",
         "3_to_5"
        ],
        [
         "24",
         "BHK2",
         "2",
         "0",
         "5.0",
         "SEMI_FURNISHED",
         "0",
         "13.05100946",
         "77.63244157",
         "FAMILY",
         "0",
         "TWO_WHEELER",
         "5",
         "1200",
         "0",
         "12000",
         "120000",
         "AP",
         "4",
         "1",
         "0_to_1",
         "1",
         "0_to_1"
        ],
        [
         "25",
         "BHK3",
         "2",
         "3",
         "4.0",
         "SEMI_FURNISHED",
         "0",
         "12.97932911",
         "77.73385934",
         "FAMILY",
         "1",
         "BOTH",
         "2",
         "1150",
         "0",
         "17000",
         "170000",
         "AP",
         "6",
         "1",
         "0_to_1",
         "1",
         "0_to_1"
        ],
        [
         "26",
         "BHK2",
         "1",
         "5",
         "5.0",
         "NOT_FURNISHED",
         "0",
         "12.80722784",
         "77.65900544",
         "ANYONE",
         "0",
         "TWO_WHEELER",
         "2",
         "750",
         "0",
         "9000",
         "40000",
         "IF",
         "5",
         "0",
         "equals_0",
         "0",
         "equals_0"
        ],
        [
         "27",
         "BHK2",
         "2",
         "2",
         "2.0",
         "SEMI_FURNISHED",
         "1",
         "12.8990311",
         "77.65695452",
         "ANYONE",
         "0",
         "BOTH",
         "2",
         "1050",
         "0",
         "18000",
         "100000",
         "IF",
         "6",
         "12",
         "above_5",
         "12",
         "above_5"
        ],
        [
         "28",
         "BHK3",
         "3",
         "0",
         "2.0",
         "SEMI_FURNISHED",
         "1",
         "12.89478932",
         "77.67538306",
         "FAMILY",
         "1",
         "TWO_WHEELER",
         "5",
         "1600",
         "1",
         "30000",
         "150000",
         "AP",
         "4",
         "0",
         "equals_0",
         "0",
         "equals_0"
        ],
        [
         "29",
         "BHK2",
         "2",
         "1",
         "2.0",
         "SEMI_FURNISHED",
         "0",
         "12.97292336",
         "77.64064245",
         "FAMILY",
         "0",
         "BOTH",
         "15",
         "1100",
         "0",
         "28000",
         "280000",
         "AP",
         "9",
         "2",
         "1_to_2",
         "2",
         "1_to_2"
        ],
        [
         "30",
         "BHK2",
         "2",
         "2",
         "2.0",
         "SEMI_FURNISHED",
         "0",
         "12.96602781",
         "77.7628157",
         "FAMILY",
         "0",
         "TWO_WHEELER",
         "2",
         "850",
         "0",
         "20000",
         "150000",
         "IF",
         "0",
         "0",
         "equals_0",
         "0",
         "equals_0"
        ],
        [
         "31",
         "BHK2",
         "2",
         "1",
         "3.0",
         "SEMI_FURNISHED",
         "1",
         "12.90894972",
         "77.71535113",
         "ANYONE",
         "1",
         "BOTH",
         "2",
         "800",
         "0",
         "10000",
         "50000",
         "AP",
         "0",
         "0",
         "equals_0",
         "0",
         "equals_0"
        ],
        [
         "32",
         "BHK2",
         "2",
         "1",
         "1.0",
         "SEMI_FURNISHED",
         "0",
         "13.03568193",
         "77.63108972",
         "FAMILY",
         "0",
         "TWO_WHEELER",
         "5",
         "1100",
         "0",
         "20000",
         "150000",
         "IF",
         "5",
         "0",
         "equals_0",
         "0",
         "equals_0"
        ],
        [
         "33",
         "BHK2",
         "2",
         "2",
         "2.0",
         "SEMI_FURNISHED",
         "1",
         "12.92360583",
         "77.62931812",
         "FAMILY",
         "0",
         "TWO_WHEELER",
         "3",
         "600",
         "0",
         "12000",
         "120000",
         "IF",
         "0",
         "1",
         "0_to_1",
         "1",
         "0_to_1"
        ],
        [
         "34",
         "BHK2",
         "2",
         "1",
         "5.0",
         "SEMI_FURNISHED",
         "0",
         "12.97656683",
         "77.70913334",
         "ANYONE",
         "1",
         "BOTH",
         "3",
         "1200",
         "0",
         "19000",
         "130000",
         "AP",
         "5",
         "3",
         "3_to_5",
         "3",
         "3_to_5"
        ],
        [
         "35",
         "BHK2",
         "2",
         "4",
         "4.0",
         "SEMI_FURNISHED",
         "0",
         "12.96289703",
         "77.7508272",
         "FAMILY",
         "1",
         "BOTH",
         "0",
         "1250",
         "0",
         "18000",
         "180000",
         "AP",
         "6",
         "4",
         "3_to_5",
         "4",
         "3_to_5"
        ],
        [
         "36",
         "BHK1",
         "1",
         "3",
         "3.0",
         "SEMI_FURNISHED",
         "0",
         "12.95617827",
         "77.65356214",
         "ANYONE",
         "0",
         "BOTH",
         "7",
         "550",
         "0",
         "14000",
         "60000",
         "IF",
         "4",
         "2",
         "1_to_2",
         "2",
         "1_to_2"
        ],
        [
         "37",
         "BHK2",
         "1",
         "3",
         "4.0",
         "SEMI_FURNISHED",
         "1",
         "12.8430636",
         "77.656476",
         "ANYONE",
         "1",
         "BOTH",
         "0",
         "870",
         "1",
         "13500",
         "80000",
         "AP",
         "10",
         "2",
         "1_to_2",
         "2",
         "1_to_2"
        ],
        [
         "38",
         "BHK2",
         "2",
         "0",
         "0.0",
         "SEMI_FURNISHED",
         "0",
         "12.90541797",
         "77.61162956",
         "FAMILY",
         "0",
         "BOTH",
         "8",
         "1100",
         "0",
         "22000",
         "220000",
         "IH",
         "8",
         "5",
         "3_to_5",
         "5",
         "3_to_5"
        ],
        [
         "39",
         "BHK2",
         "2",
         "4",
         "4.0",
         "SEMI_FURNISHED",
         "0",
         "12.9549358",
         "77.7205937",
         "FAMILY",
         "1",
         "BOTH",
         "1",
         "1000",
         "0",
         "26000",
         "150000",
         "AP",
         "2",
         "1",
         "0_to_1",
         "1",
         "0_to_1"
        ],
        [
         "40",
         "BHK1",
         "1",
         "3",
         "3.0",
         "SEMI_FURNISHED",
         "1",
         "12.95284679",
         "77.69551897",
         "BACHELOR",
         "0",
         "TWO_WHEELER",
         "4",
         "400",
         "0",
         "8500",
         "35000",
         "IF",
         "0",
         "2",
         "1_to_2",
         "2",
         "1_to_2"
        ],
        [
         "41",
         "BHK3",
         "2",
         "0",
         "2.0",
         "SEMI_FURNISHED",
         "1",
         "12.93371457",
         "77.61387932",
         "ANYONE",
         "0",
         "BOTH",
         "10",
         "1100",
         "0",
         "25000",
         "80000",
         "IF",
         "7",
         "4",
         "3_to_5",
         "4",
         "3_to_5"
        ],
        [
         "42",
         "BHK2",
         "1",
         "1",
         "2.0",
         "SEMI_FURNISHED",
         "0",
         "12.97648271",
         "77.63672542",
         "BACHELOR",
         "0",
         "TWO_WHEELER",
         "9",
         "640",
         "0",
         "18000",
         "60000",
         "IF",
         "0",
         "0",
         "equals_0",
         "0",
         "equals_0"
        ],
        [
         "43",
         "BHK3",
         "3",
         "5",
         "9.0",
         "SEMI_FURNISHED",
         "0",
         "12.83718237",
         "77.69569854",
         "ANYONE",
         "1",
         "BOTH",
         "1",
         "1845",
         "0",
         "22000",
         "220000",
         "AP",
         "9",
         "0",
         "equals_0",
         "0",
         "equals_0"
        ],
        [
         "44",
         "BHK2",
         "2",
         "8",
         "9.0",
         "FULLY_FURNISHED",
         "1",
         "12.91119351",
         "77.67767211",
         "FAMILY",
         "1",
         "BOTH",
         "5",
         "1500",
         "1",
         "22500",
         "225000",
         "AP",
         "6",
         "4",
         "3_to_5",
         "4",
         "3_to_5"
        ],
        [
         "45",
         "BHK2",
         "3",
         "0",
         null,
         "SEMI_FURNISHED",
         "1",
         "12.9697999",
         "77.7499467",
         "ANYONE",
         "1",
         "BOTH",
         "0",
         "1350",
         "1",
         "25000",
         "240000",
         null,
         "6",
         "0",
         "equals_0",
         "0",
         "equals_0"
        ],
        [
         "46",
         "BHK3",
         "3",
         "2",
         "4.0",
         "SEMI_FURNISHED",
         "1",
         "12.9488884",
         "77.7214587",
         "FAMILY",
         "1",
         "BOTH",
         "0",
         "1410",
         "1",
         "19500",
         "100000",
         "AP",
         "13",
         "1",
         "0_to_1",
         "1",
         "0_to_1"
        ],
        [
         "47",
         "BHK1",
         "1",
         "1",
         "3.0",
         "SEMI_FURNISHED",
         "0",
         "12.8759179",
         "77.595706",
         "ANYONE",
         "0",
         "BOTH",
         "2",
         "500",
         "0",
         "9500",
         "75000",
         "AP",
         "13",
         "3",
         "3_to_5",
         "3",
         "3_to_5"
        ],
        [
         "48",
         "BHK3",
         "3",
         "2",
         "3.0",
         "SEMI_FURNISHED",
         "0",
         "13.0859625",
         "77.5839918",
         "FAMILY",
         "1",
         "BOTH",
         "2",
         "1800",
         "0",
         "22000",
         "220000",
         "IF",
         "5",
         "0",
         "equals_0",
         "0",
         "equals_0"
        ],
        [
         "49",
         "BHK3",
         "3",
         "1",
         "4.0",
         "SEMI_FURNISHED",
         "1",
         "12.98931584",
         "77.71539422",
         "ANYONE",
         "1",
         "BOTH",
         "8",
         "1800",
         "0",
         "32000",
         "65000",
         "AP",
         "4",
         "0",
         "equals_0",
         "0",
         "equals_0"
        ]
       ],
       "shape": {
        "columns": 22,
        "rows": 28888
       }
      },
      "text/html": [
       "<div>\n",
       "<style scoped>\n",
       "    .dataframe tbody tr th:only-of-type {\n",
       "        vertical-align: middle;\n",
       "    }\n",
       "\n",
       "    .dataframe tbody tr th {\n",
       "        vertical-align: top;\n",
       "    }\n",
       "\n",
       "    .dataframe thead th {\n",
       "        text-align: right;\n",
       "    }\n",
       "</style>\n",
       "<table border=\"1\" class=\"dataframe\">\n",
       "  <thead>\n",
       "    <tr style=\"text-align: right;\">\n",
       "      <th></th>\n",
       "      <th>type</th>\n",
       "      <th>bathroom</th>\n",
       "      <th>floor</th>\n",
       "      <th>total_floor</th>\n",
       "      <th>furnishing</th>\n",
       "      <th>gym</th>\n",
       "      <th>latitude</th>\n",
       "      <th>longitude</th>\n",
       "      <th>lease_type</th>\n",
       "      <th>lift</th>\n",
       "      <th>parking</th>\n",
       "      <th>property_age</th>\n",
       "      <th>property_size</th>\n",
       "      <th>swimming_pool</th>\n",
       "      <th>rent</th>\n",
       "      <th>deposit</th>\n",
       "      <th>building_type</th>\n",
       "      <th>photo_count</th>\n",
       "      <th>request_day_within_7d</th>\n",
       "      <th>7d_class</th>\n",
       "      <th>request_day_within_3d</th>\n",
       "      <th>3d_class</th>\n",
       "    </tr>\n",
       "  </thead>\n",
       "  <tbody>\n",
       "    <tr>\n",
       "      <th>0</th>\n",
       "      <td>BHK2</td>\n",
       "      <td>1</td>\n",
       "      <td>3</td>\n",
       "      <td>4.0</td>\n",
       "      <td>SEMI_FURNISHED</td>\n",
       "      <td>1</td>\n",
       "      <td>12.876174</td>\n",
       "      <td>77.596571</td>\n",
       "      <td>FAMILY</td>\n",
       "      <td>1</td>\n",
       "      <td>BOTH</td>\n",
       "      <td>2</td>\n",
       "      <td>850</td>\n",
       "      <td>1</td>\n",
       "      <td>12000</td>\n",
       "      <td>120000</td>\n",
       "      <td>AP</td>\n",
       "      <td>7</td>\n",
       "      <td>4</td>\n",
       "      <td>3_to_5</td>\n",
       "      <td>4</td>\n",
       "      <td>3_to_5</td>\n",
       "    </tr>\n",
       "    <tr>\n",
       "      <th>1</th>\n",
       "      <td>BHK2</td>\n",
       "      <td>2</td>\n",
       "      <td>4</td>\n",
       "      <td>11.0</td>\n",
       "      <td>SEMI_FURNISHED</td>\n",
       "      <td>1</td>\n",
       "      <td>13.018444</td>\n",
       "      <td>77.678122</td>\n",
       "      <td>FAMILY</td>\n",
       "      <td>1</td>\n",
       "      <td>BOTH</td>\n",
       "      <td>1</td>\n",
       "      <td>1233</td>\n",
       "      <td>1</td>\n",
       "      <td>20000</td>\n",
       "      <td>150000</td>\n",
       "      <td>AP</td>\n",
       "      <td>0</td>\n",
       "      <td>3</td>\n",
       "      <td>3_to_5</td>\n",
       "      <td>3</td>\n",
       "      <td>3_to_5</td>\n",
       "    </tr>\n",
       "    <tr>\n",
       "      <th>2</th>\n",
       "      <td>BHK2</td>\n",
       "      <td>2</td>\n",
       "      <td>0</td>\n",
       "      <td>4.0</td>\n",
       "      <td>NOT_FURNISHED</td>\n",
       "      <td>1</td>\n",
       "      <td>12.975072</td>\n",
       "      <td>77.665865</td>\n",
       "      <td>ANYONE</td>\n",
       "      <td>1</td>\n",
       "      <td>FOUR_WHEELER</td>\n",
       "      <td>0</td>\n",
       "      <td>1200</td>\n",
       "      <td>0</td>\n",
       "      <td>15000</td>\n",
       "      <td>75000</td>\n",
       "      <td>AP</td>\n",
       "      <td>12</td>\n",
       "      <td>15</td>\n",
       "      <td>above_5</td>\n",
       "      <td>15</td>\n",
       "      <td>above_5</td>\n",
       "    </tr>\n",
       "    <tr>\n",
       "      <th>3</th>\n",
       "      <td>BHK3</td>\n",
       "      <td>2</td>\n",
       "      <td>3</td>\n",
       "      <td>4.0</td>\n",
       "      <td>SEMI_FURNISHED</td>\n",
       "      <td>0</td>\n",
       "      <td>12.888169</td>\n",
       "      <td>77.591282</td>\n",
       "      <td>ANYONE</td>\n",
       "      <td>0</td>\n",
       "      <td>BOTH</td>\n",
       "      <td>1</td>\n",
       "      <td>1300</td>\n",
       "      <td>0</td>\n",
       "      <td>17000</td>\n",
       "      <td>150000</td>\n",
       "      <td>AP</td>\n",
       "      <td>9</td>\n",
       "      <td>5</td>\n",
       "      <td>3_to_5</td>\n",
       "      <td>5</td>\n",
       "      <td>3_to_5</td>\n",
       "    </tr>\n",
       "    <tr>\n",
       "      <th>4</th>\n",
       "      <td>BHK1</td>\n",
       "      <td>1</td>\n",
       "      <td>1</td>\n",
       "      <td>2.0</td>\n",
       "      <td>SEMI_FURNISHED</td>\n",
       "      <td>0</td>\n",
       "      <td>12.990243</td>\n",
       "      <td>77.712962</td>\n",
       "      <td>ANYONE</td>\n",
       "      <td>0</td>\n",
       "      <td>BOTH</td>\n",
       "      <td>4</td>\n",
       "      <td>450</td>\n",
       "      <td>0</td>\n",
       "      <td>6500</td>\n",
       "      <td>40000</td>\n",
       "      <td>IF</td>\n",
       "      <td>7</td>\n",
       "      <td>25</td>\n",
       "      <td>above_5</td>\n",
       "      <td>25</td>\n",
       "      <td>above_5</td>\n",
       "    </tr>\n",
       "    <tr>\n",
       "      <th>...</th>\n",
       "      <td>...</td>\n",
       "      <td>...</td>\n",
       "      <td>...</td>\n",
       "      <td>...</td>\n",
       "      <td>...</td>\n",
       "      <td>...</td>\n",
       "      <td>...</td>\n",
       "      <td>...</td>\n",
       "      <td>...</td>\n",
       "      <td>...</td>\n",
       "      <td>...</td>\n",
       "      <td>...</td>\n",
       "      <td>...</td>\n",
       "      <td>...</td>\n",
       "      <td>...</td>\n",
       "      <td>...</td>\n",
       "      <td>...</td>\n",
       "      <td>...</td>\n",
       "      <td>...</td>\n",
       "      <td>...</td>\n",
       "      <td>...</td>\n",
       "      <td>...</td>\n",
       "    </tr>\n",
       "    <tr>\n",
       "      <th>28883</th>\n",
       "      <td>BHK2</td>\n",
       "      <td>1</td>\n",
       "      <td>0</td>\n",
       "      <td>2.0</td>\n",
       "      <td>SEMI_FURNISHED</td>\n",
       "      <td>0</td>\n",
       "      <td>12.942613</td>\n",
       "      <td>77.621890</td>\n",
       "      <td>FAMILY</td>\n",
       "      <td>0</td>\n",
       "      <td>BOTH</td>\n",
       "      <td>15</td>\n",
       "      <td>1200</td>\n",
       "      <td>0</td>\n",
       "      <td>23000</td>\n",
       "      <td>200000</td>\n",
       "      <td>IF</td>\n",
       "      <td>0</td>\n",
       "      <td>5</td>\n",
       "      <td>3_to_5</td>\n",
       "      <td>5</td>\n",
       "      <td>3_to_5</td>\n",
       "    </tr>\n",
       "    <tr>\n",
       "      <th>28884</th>\n",
       "      <td>BHK3</td>\n",
       "      <td>2</td>\n",
       "      <td>3</td>\n",
       "      <td>3.0</td>\n",
       "      <td>SEMI_FURNISHED</td>\n",
       "      <td>0</td>\n",
       "      <td>12.906331</td>\n",
       "      <td>77.591790</td>\n",
       "      <td>FAMILY</td>\n",
       "      <td>1</td>\n",
       "      <td>BOTH</td>\n",
       "      <td>8</td>\n",
       "      <td>1310</td>\n",
       "      <td>0</td>\n",
       "      <td>22000</td>\n",
       "      <td>125000</td>\n",
       "      <td>AP</td>\n",
       "      <td>7</td>\n",
       "      <td>2</td>\n",
       "      <td>1_to_2</td>\n",
       "      <td>2</td>\n",
       "      <td>1_to_2</td>\n",
       "    </tr>\n",
       "    <tr>\n",
       "      <th>28885</th>\n",
       "      <td>BHK2</td>\n",
       "      <td>2</td>\n",
       "      <td>6</td>\n",
       "      <td>14.0</td>\n",
       "      <td>SEMI_FURNISHED</td>\n",
       "      <td>1</td>\n",
       "      <td>12.904363</td>\n",
       "      <td>77.526863</td>\n",
       "      <td>FAMILY</td>\n",
       "      <td>1</td>\n",
       "      <td>BOTH</td>\n",
       "      <td>0</td>\n",
       "      <td>975</td>\n",
       "      <td>1</td>\n",
       "      <td>12500</td>\n",
       "      <td>50000</td>\n",
       "      <td>AP</td>\n",
       "      <td>6</td>\n",
       "      <td>0</td>\n",
       "      <td>equals_0</td>\n",
       "      <td>0</td>\n",
       "      <td>equals_0</td>\n",
       "    </tr>\n",
       "    <tr>\n",
       "      <th>28886</th>\n",
       "      <td>BHK2</td>\n",
       "      <td>1</td>\n",
       "      <td>1</td>\n",
       "      <td>2.0</td>\n",
       "      <td>SEMI_FURNISHED</td>\n",
       "      <td>0</td>\n",
       "      <td>12.938007</td>\n",
       "      <td>77.629097</td>\n",
       "      <td>ANYONE</td>\n",
       "      <td>0</td>\n",
       "      <td>TWO_WHEELER</td>\n",
       "      <td>5</td>\n",
       "      <td>600</td>\n",
       "      <td>0</td>\n",
       "      <td>14000</td>\n",
       "      <td>80000</td>\n",
       "      <td>IF</td>\n",
       "      <td>0</td>\n",
       "      <td>2</td>\n",
       "      <td>1_to_2</td>\n",
       "      <td>2</td>\n",
       "      <td>1_to_2</td>\n",
       "    </tr>\n",
       "    <tr>\n",
       "      <th>28887</th>\n",
       "      <td>BHK3</td>\n",
       "      <td>2</td>\n",
       "      <td>0</td>\n",
       "      <td>4.0</td>\n",
       "      <td>SEMI_FURNISHED</td>\n",
       "      <td>1</td>\n",
       "      <td>12.978731</td>\n",
       "      <td>77.680988</td>\n",
       "      <td>FAMILY</td>\n",
       "      <td>1</td>\n",
       "      <td>BOTH</td>\n",
       "      <td>1</td>\n",
       "      <td>1550</td>\n",
       "      <td>0</td>\n",
       "      <td>24000</td>\n",
       "      <td>175000</td>\n",
       "      <td>AP</td>\n",
       "      <td>11</td>\n",
       "      <td>2</td>\n",
       "      <td>1_to_2</td>\n",
       "      <td>2</td>\n",
       "      <td>1_to_2</td>\n",
       "    </tr>\n",
       "  </tbody>\n",
       "</table>\n",
       "<p>28888 rows × 22 columns</p>\n",
       "</div>"
      ],
      "text/plain": [
       "       type  bathroom  floor  total_floor      furnishing  gym   latitude  \\\n",
       "0      BHK2         1      3          4.0  SEMI_FURNISHED    1  12.876174   \n",
       "1      BHK2         2      4         11.0  SEMI_FURNISHED    1  13.018444   \n",
       "2      BHK2         2      0          4.0   NOT_FURNISHED    1  12.975072   \n",
       "3      BHK3         2      3          4.0  SEMI_FURNISHED    0  12.888169   \n",
       "4      BHK1         1      1          2.0  SEMI_FURNISHED    0  12.990243   \n",
       "...     ...       ...    ...          ...             ...  ...        ...   \n",
       "28883  BHK2         1      0          2.0  SEMI_FURNISHED    0  12.942613   \n",
       "28884  BHK3         2      3          3.0  SEMI_FURNISHED    0  12.906331   \n",
       "28885  BHK2         2      6         14.0  SEMI_FURNISHED    1  12.904363   \n",
       "28886  BHK2         1      1          2.0  SEMI_FURNISHED    0  12.938007   \n",
       "28887  BHK3         2      0          4.0  SEMI_FURNISHED    1  12.978731   \n",
       "\n",
       "       longitude lease_type  lift       parking  property_age  property_size  \\\n",
       "0      77.596571     FAMILY     1          BOTH             2            850   \n",
       "1      77.678122     FAMILY     1          BOTH             1           1233   \n",
       "2      77.665865     ANYONE     1  FOUR_WHEELER             0           1200   \n",
       "3      77.591282     ANYONE     0          BOTH             1           1300   \n",
       "4      77.712962     ANYONE     0          BOTH             4            450   \n",
       "...          ...        ...   ...           ...           ...            ...   \n",
       "28883  77.621890     FAMILY     0          BOTH            15           1200   \n",
       "28884  77.591790     FAMILY     1          BOTH             8           1310   \n",
       "28885  77.526863     FAMILY     1          BOTH             0            975   \n",
       "28886  77.629097     ANYONE     0   TWO_WHEELER             5            600   \n",
       "28887  77.680988     FAMILY     1          BOTH             1           1550   \n",
       "\n",
       "       swimming_pool   rent  deposit building_type  photo_count  \\\n",
       "0                  1  12000   120000            AP            7   \n",
       "1                  1  20000   150000            AP            0   \n",
       "2                  0  15000    75000            AP           12   \n",
       "3                  0  17000   150000            AP            9   \n",
       "4                  0   6500    40000            IF            7   \n",
       "...              ...    ...      ...           ...          ...   \n",
       "28883              0  23000   200000            IF            0   \n",
       "28884              0  22000   125000            AP            7   \n",
       "28885              1  12500    50000            AP            6   \n",
       "28886              0  14000    80000            IF            0   \n",
       "28887              0  24000   175000            AP           11   \n",
       "\n",
       "       request_day_within_7d  7d_class  request_day_within_3d  3d_class  \n",
       "0                          4    3_to_5                      4    3_to_5  \n",
       "1                          3    3_to_5                      3    3_to_5  \n",
       "2                         15   above_5                     15   above_5  \n",
       "3                          5    3_to_5                      5    3_to_5  \n",
       "4                         25   above_5                     25   above_5  \n",
       "...                      ...       ...                    ...       ...  \n",
       "28883                      5    3_to_5                      5    3_to_5  \n",
       "28884                      2    1_to_2                      2    1_to_2  \n",
       "28885                      0  equals_0                      0  equals_0  \n",
       "28886                      2    1_to_2                      2    1_to_2  \n",
       "28887                      2    1_to_2                      2    1_to_2  \n",
       "\n",
       "[28888 rows x 22 columns]"
      ]
     },
     "execution_count": 63,
     "metadata": {},
     "output_type": "execute_result"
    }
   ],
   "source": [
    "df"
   ]
  },
  {
   "cell_type": "code",
   "execution_count": 64,
   "metadata": {},
   "outputs": [
    {
     "name": "stderr",
     "output_type": "stream",
     "text": [
      "C:\\Users\\siddharth\\AppData\\Local\\Temp\\ipykernel_2012\\320819007.py:6: UserWarning: Ignoring `palette` because no `hue` variable has been assigned.\n",
      "  sns.kdeplot(df, x = 'request_day_within_3d', palette='coolwarm')\n"
     ]
    },
    {
     "data": {
      "text/plain": [
       "<Axes: xlabel='request_day_within_3d', ylabel='Density'>"
      ]
     },
     "execution_count": 64,
     "metadata": {},
     "output_type": "execute_result"
    },
    {
     "data": {
      "image/png": "[encoded data removed]",
      "text/plain": [
       "<Figure size 640x480 with 1 Axes>"
      ]
     },
     "metadata": {},
     "output_type": "display_data"
    }
   ],
   "source": [
    "# Set a pleasing theme and color palette\n",
    "sns.set_theme(style=\"whitegrid\", palette=\"muted\")\n",
    "\n",
    "\n",
    "\n",
    "sns.kdeplot(df, x = 'request_day_within_3d', palette='coolwarm')"
   ]
  },
  {
   "cell_type": "code",
   "execution_count": 65,
   "metadata": {},
   "outputs": [
    {
     "data": {
      "text/plain": [
       "<Axes: xlabel='3d_class', ylabel='count'>"
      ]
     },
     "execution_count": 65,
     "metadata": {},
     "output_type": "execute_result"
    },
    {
     "data": {
      "image/png": "[encoded data removed]",
      "text/plain": [
       "<Figure size 640x480 with 1 Axes>"
      ]
     },
     "metadata": {},
     "output_type": "display_data"
    }
   ],
   "source": [
    "sns.countplot(data=df, x = '3d_class', hue='3d_class')"
   ]
  },
  {
   "cell_type": "code",
   "execution_count": 66,
   "metadata": {},
   "outputs": [],
   "source": [
    "# performing categorical and numerical analysis \n",
    "\n",
    "\n",
    "df_cat = df.select_dtypes(include=['object']) \n",
    "df_num = df.select_dtypes(include=['number'])"
   ]
  },
  {
   "cell_type": "code",
   "execution_count": 67,
   "metadata": {},
   "outputs": [
    {
     "name": "stdout",
     "output_type": "stream",
     "text": [
      "Column Name:  type\n",
      "type\n",
      "BHK2        14071\n",
      "BHK1         6565\n",
      "BHK3         5725\n",
      "RK1          2015\n",
      "BHK4          440\n",
      "BHK4PLUS       72\n",
      "Name: count, dtype: int64\n",
      "\n",
      "----------------------------------------\n",
      "Column Name:  furnishing\n",
      "furnishing\n",
      "SEMI_FURNISHED     22463\n",
      "NOT_FURNISHED       4863\n",
      "FULLY_FURNISHED     1562\n",
      "Name: count, dtype: int64\n",
      "\n",
      "----------------------------------------\n",
      "Column Name:  lease_type\n",
      "lease_type\n",
      "FAMILY      14885\n",
      "ANYONE      12721\n",
      "BACHELOR     1211\n",
      "COMPANY        71\n",
      "Name: count, dtype: int64\n",
      "\n",
      "----------------------------------------\n",
      "Column Name:  parking\n",
      "parking\n",
      "BOTH            13809\n",
      "TWO_WHEELER     12806\n",
      "NONE             1277\n",
      "FOUR_WHEELER      996\n",
      "Name: count, dtype: int64\n",
      "\n",
      "----------------------------------------\n",
      "Column Name:  building_type\n",
      "building_type\n",
      "IF    16557\n",
      "AP    10193\n",
      "IH     2059\n",
      "Name: count, dtype: int64\n",
      "\n",
      "----------------------------------------\n",
      "Column Name:  7d_class\n",
      "7d_class\n",
      "equals_0    15678\n",
      "0_to_1       5940\n",
      "3_to_5       3049\n",
      "1_to_2       2741\n",
      "above_5      1480\n",
      "Name: count, dtype: int64\n",
      "\n",
      "----------------------------------------\n",
      "Column Name:  3d_class\n",
      "3d_class\n",
      "equals_0    15678\n",
      "0_to_1       5940\n",
      "3_to_5       3049\n",
      "1_to_2       2741\n",
      "above_5      1480\n",
      "Name: count, dtype: int64\n",
      "\n",
      "----------------------------------------\n"
     ]
    }
   ],
   "source": [
    "for col in df_cat: \n",
    "    print(\"Column Name: \", col) \n",
    "    print(df_cat[col].value_counts()) \n",
    "    print(\"\\n\" + \"--\" * 20)"
   ]
  },
  {
   "cell_type": "code",
   "execution_count": 68,
   "metadata": {},
   "outputs": [
    {
     "name": "stdout",
     "output_type": "stream",
     "text": [
      "Column Name:  type\n"
     ]
    },
    {
     "data": {
      "image/png": "[encoded data removed]",
      "text/plain": [
       "<Figure size 640x480 with 1 Axes>"
      ]
     },
     "metadata": {},
     "output_type": "display_data"
    },
    {
     "name": "stdout",
     "output_type": "stream",
     "text": [
      "Column Name:  furnishing\n"
     ]
    },
    {
     "data": {
      "image/png": "[encoded data removed]",
      "text/plain": [
       "<Figure size 640x480 with 1 Axes>"
      ]
     },
     "metadata": {},
     "output_type": "display_data"
    },
    {
     "name": "stdout",
     "output_type": "stream",
     "text": [
      "Column Name:  lease_type\n"
     ]
    },
    {
     "data": {
      "image/png": "[encoded data removed]",
      "text/plain": [
       "<Figure size 640x480 with 1 Axes>"
      ]
     },
     "metadata": {},
     "output_type": "display_data"
    },
    {
     "name": "stdout",
     "output_type": "stream",
     "text": [
      "Column Name:  parking\n"
     ]
    },
    {
     "data": {
      "image/png": "[encoded data removed]",
      "text/plain": [
       "<Figure size 640x480 with 1 Axes>"
      ]
     },
     "metadata": {},
     "output_type": "display_data"
    },
    {
     "name": "stdout",
     "output_type": "stream",
     "text": [
      "Column Name:  building_type\n"
     ]
    },
    {
     "data": {
      "image/png": "[encoded data removed]",
      "text/plain": [
       "<Figure size 640x480 with 1 Axes>"
      ]
     },
     "metadata": {},
     "output_type": "display_data"
    },
    {
     "name": "stdout",
     "output_type": "stream",
     "text": [
      "Column Name:  7d_class\n"
     ]
    },
    {
     "data": {
      "image/png": "[encoded data removed]",
      "text/plain": [
       "<Figure size 640x480 with 1 Axes>"
      ]
     },
     "metadata": {},
     "output_type": "display_data"
    },
    {
     "name": "stdout",
     "output_type": "stream",
     "text": [
      "Column Name:  3d_class\n"
     ]
    },
    {
     "data": {
      "image/png": "[encoded data removed]",
      "text/plain": [
       "<Figure size 640x480 with 1 Axes>"
      ]
     },
     "metadata": {},
     "output_type": "display_data"
    }
   ],
   "source": [
    "for col in df_cat: \n",
    "    print(\"Column Name: \", col) \n",
    "    sns.countplot(data = df, x = col, hue = col)\n",
    "    plt.title(f'Column Name {col}')\n",
    "    plt.show()"
   ]
  },
  {
   "cell_type": "code",
   "execution_count": null,
   "metadata": {},
   "outputs": [],
   "source": []
  },
  {
   "cell_type": "code",
   "execution_count": null,
   "metadata": {},
   "outputs": [],
   "source": []
  },
  {
   "cell_type": "code",
   "execution_count": 69,
   "metadata": {},
   "outputs": [],
   "source": [
    "from sklearn.preprocessing import MinMaxScaler \n",
    "scaler_for_num = MinMaxScaler()\n",
    "df_num_scaled = scaler_for_num.fit_transform(df_num)\n",
    "\n",
    "df_num_scaled = pd.DataFrame(df_num_scaled) \n",
    "df_num_scaled.columns = df_num.columns\n",
    "\n",
    "\n",
    "melted_df_num = pd.melt(df_num_scaled, var_name='num_variables', value_name='numbers')"
   ]
  },
  {
   "cell_type": "code",
   "execution_count": 70,
   "metadata": {},
   "outputs": [
    {
     "data": {
      "text/plain": [
       "<Axes: xlabel='numbers', ylabel='num_variables'>"
      ]
     },
     "execution_count": 70,
     "metadata": {},
     "output_type": "execute_result"
    },
    {
     "data": {
      "image/png": "[encoded data removed]",
      "text/plain": [
       "<Figure size 1400x800 with 1 Axes>"
      ]
     },
     "metadata": {},
     "output_type": "display_data"
    }
   ],
   "source": [
    "plt.figure(figsize=(14, 8))\n",
    "\n",
    "sns.boxplot(data=melted_df_num, x = 'numbers', y='num_variables')"
   ]
  },
  {
   "cell_type": "code",
   "execution_count": 71,
   "metadata": {},
   "outputs": [],
   "source": [
    "df.to_parquet('data.parquet')"
   ]
  }
 ],
 "metadata": {
  "kernelspec": {
   "display_name": "flask_env",
   "language": "python",
   "name": "python3"
  },
  "language_info": {
   "codemirror_mode": {
    "name": "ipython",
    "version": 3
   },
   "file_extension": ".py",
   "mimetype": "text/x-python",
   "name": "python",
   "nbconvert_exporter": "python",
   "pygments_lexer": "ipython3",
   "version": "3.12.0"
  }
 },
 "nbformat": 4,
 "nbformat_minor": 2
}
