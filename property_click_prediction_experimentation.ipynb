{
 "cells": [
  {
   "cell_type": "code",
   "execution_count": 100,
   "metadata": {},
   "outputs": [],
   "source": [
    "import pandas as pd \n",
    "import numpy as np \n",
    "import torch \n",
    "from sklearn.pipeline import Pipeline \n",
    "from sklearn.impute import SimpleImputer \n",
    "from sklearn.compose import ColumnTransformer \n",
    "from sklearn.model_selection import train_test_split\n",
    "from sklearn.preprocessing import LabelEncoder \n",
    "from sklearn.preprocessing import OneHotEncoder, StandardScaler \n",
    "from sklearn.metrics import mean_absolute_error, mean_squared_error, r2_score, root_mean_squared_error "
   ]
  },
  {
   "cell_type": "code",
   "execution_count": 101,
   "metadata": {},
   "outputs": [],
   "source": [
    "df = pd.read_parquet('data.parquet')\n",
    "df['total_floor'] = df['total_floor'].fillna('-999') \n",
    "df['building_type'] = df['building_type'].fillna('missing')"
   ]
  },
  {
   "cell_type": "code",
   "execution_count": 102,
   "metadata": {},
   "outputs": [],
   "source": [
    "def train_test_split_features(X,y): \n",
    "    X_train, X_test, y_train, y_test = train_test_split(X, y, test_size=0.2,) \n",
    "    return X_train, X_test, y_train, y_test\n"
   ]
  },
  {
   "cell_type": "code",
   "execution_count": 116,
   "metadata": {},
   "outputs": [],
   "source": [
    "X = df.drop(columns=['request_day_within_7d', '7d_class', 'request_day_within_3d', '3d_class'])\n",
    "y_set = df[['request_day_within_7d', '7d_class', 'request_day_within_3d', '3d_class']]\n",
    "y_regression_7d = df[['request_day_within_7d']]\n",
    "y_regression_3d = df[['request_day_within_3d']]\n",
    "\n",
    "y_regression_3d_log = np.log1p(y_regression_3d) \n",
    "\n",
    "y_regression_7d_log = np.log1p(y_regression_7d) \n",
    "\n",
    "\n",
    "\n",
    "encoder_7d = LabelEncoder()\n",
    "y_classification_7d = encoder_7d.fit_transform(df['7d_class'])\n",
    "\n",
    "\n",
    "encoder_3d = LabelEncoder()\n",
    "y_classification_3d = encoder_3d.fit_transform(df['3d_class'])"
   ]
  },
  {
   "cell_type": "code",
   "execution_count": 117,
   "metadata": {},
   "outputs": [],
   "source": [
    "numerical_features = [\n",
    "    \"bathroom\",\n",
    "    \"floor\",\n",
    "    \"total_floor\",\n",
    "    \"gym\",\n",
    "    \"latitude\",\n",
    "    \"longitude\",\n",
    "    \"lift\",\n",
    "    \"property_age\",\n",
    "    \"property_size\",\n",
    "    \"swimming_pool\",\n",
    "    \"rent\",\n",
    "    \"deposit\",\n",
    "    \"photo_count\",\n",
    "]\n",
    "\n",
    "categorical_features = ['type','furnishing','lease_type','parking','building_type']"
   ]
  },
  {
   "cell_type": "code",
   "execution_count": 118,
   "metadata": {},
   "outputs": [],
   "source": [
    "numerical_transformer = StandardScaler()\n",
    "categorical_transformer = OneHotEncoder()\n",
    "\n",
    "preprocessor = ColumnTransformer(\n",
    "    transformers=[\n",
    "        (\"num\", numerical_transformer, numerical_features),\n",
    "        (\"cat\", categorical_transformer, categorical_features),\n",
    "    ]\n",
    ")\n",
    "\n",
    "preprocessing_pipeline = Pipeline([\n",
    "    ('preprocessor',preprocessor)\n",
    "])"
   ]
  },
  {
   "cell_type": "markdown",
   "metadata": {},
   "source": [
    "## Baseline Model "
   ]
  },
  {
   "cell_type": "code",
   "execution_count": 131,
   "metadata": {},
   "outputs": [],
   "source": [
    "X_train, X_test, y_train, y_test = train_test_split_features(X,y_regression_3d_log)\n",
    "\n",
    "\n",
    "X_train_preprocessed = preprocessing_pipeline.fit_transform(X_train) \n",
    "X_test_preprocessed = preprocessing_pipeline.transform(X_test) "
   ]
  },
  {
   "cell_type": "code",
   "execution_count": 133,
   "metadata": {},
   "outputs": [
    {
     "name": "stdout",
     "output_type": "stream",
     "text": [
      "Baseline MSE 6.07527381637751 \n",
      "Baseline RMSE 2.4648070545942353 \n",
      "Baseline MAE 1.2537514003414993\n"
     ]
    }
   ],
   "source": [
    "from sklearn.linear_model import LinearRegression\n",
    "\n",
    "baseline_linear_regression = LinearRegression()\n",
    "baseline_linear_regression.fit(X_train_preprocessed, y_train)\n",
    "y_pred = baseline_linear_regression.predict(X_test_preprocessed)\n",
    "\n",
    "y_test_original = np.expm1(y_test)\n",
    "\n",
    "y_pred_original = np.expm1(y_pred)\n",
    "\n",
    "print(\n",
    "    f\"Baseline MSE {mean_squared_error(y_test_original, y_pred_original)} \\nBaseline RMSE {root_mean_squared_error(y_test_original, y_pred_original)} \\nBaseline MAE {mean_absolute_error(y_test_original, y_pred_original)}\"\n",
    ")"
   ]
  },
  {
   "cell_type": "code",
   "execution_count": 108,
   "metadata": {},
   "outputs": [],
   "source": [
    "from sklearn.ensemble import RandomForestRegressor "
   ]
  },
  {
   "cell_type": "code",
   "execution_count": null,
   "metadata": {},
   "outputs": [],
   "source": [
    "from sklearn.linear_model import LinearRegression\n",
    "\n",
    "baseline_linear_regression = LinearRegression()\n",
    "baseline_linear_regression.fit(X_train_preprocessed, y_train)\n",
    "y_pred = baseline_linear_regression.predict(X_test_preprocessed)\n",
    "\n",
    "y_test_original = np.expm1(y_test)\n",
    "\n",
    "y_pred_original = np.expm1(y_pred)\n",
    "\n",
    "print(\n",
    "    f\"Baseline MSE {mean_squared_error(y_test_original, y_pred_original)} \\nBaseline RMSE {root_mean_squared_error(y_test_original, y_pred_original)} \\nBaseline MAE {mean_absolute_error(y_test_original, y_pred_original)}\"\n",
    ")"
   ]
  },
  {
   "cell_type": "code",
   "execution_count": 111,
   "metadata": {},
   "outputs": [
    {
     "name": "stdout",
     "output_type": "stream",
     "text": [
      "Random Forest MSE 4.151198130841121\n"
     ]
    }
   ],
   "source": [
    "rf = RandomForestRegressor() \n",
    "rf.fit(X_train_preprocessed, y_train.values.ravel()) \n",
    "print(f\"Random Forest MSE {mean_squared_error(y_test.values.ravel(), rf.predict(X_test_preprocessed))}\")"
   ]
  },
  {
   "cell_type": "code",
   "execution_count": 112,
   "metadata": {},
   "outputs": [
    {
     "name": "stdout",
     "output_type": "stream",
     "text": [
      "XGB MSE 4.151198130841121\n"
     ]
    }
   ],
   "source": [
    "from xgboost import XGBRegressor \n",
    "\n",
    "\n",
    "xgb = XGBRegressor() \n",
    "xgb.fit(X_train_preprocessed, y_train.values.ravel())\n",
    "print(f\"XGB MSE {mean_squared_error(y_test.values.ravel(), rf.predict(X_test_preprocessed))}\")"
   ]
  },
  {
   "cell_type": "code",
   "execution_count": null,
   "metadata": {},
   "outputs": [],
   "source": []
  },
  {
   "cell_type": "code",
   "execution_count": 115,
   "metadata": {},
   "outputs": [
    {
     "data": {
      "text/plain": [
       "request_day_within_3d    1.281674\n",
       "dtype: float64"
      ]
     },
     "execution_count": 115,
     "metadata": {},
     "output_type": "execute_result"
    }
   ],
   "source": [
    "y_regression_3d.mean()"
   ]
  },
  {
   "cell_type": "markdown",
   "metadata": {},
   "source": [
    "### Torch Experiment "
   ]
  },
  {
   "cell_type": "code",
   "execution_count": 79,
   "metadata": {},
   "outputs": [
    {
     "name": "stdout",
     "output_type": "stream",
     "text": [
      "torch.Size([23110, 34]) torch.Size([23110, 1])\n"
     ]
    }
   ],
   "source": [
    "X_train, X_test, y_train, y_test = train_test_split_features(X,y_regression_3d)\n",
    "\n",
    "\n",
    "X_train_preprocessed = preprocessing_pipeline.fit_transform(X_train) \n",
    "X_test_preprocessed = preprocessing_pipeline.transform(X_test) \n",
    "\n",
    "\n",
    "X_train_preprocessed_torch = torch.tensor(X_train_preprocessed, dtype=torch.float32)\n",
    "X_test_preprocessed_torch = torch.tensor(X_test_preprocessed, dtype=torch.float32)\n",
    "y_train_torch = torch.tensor(y_train.values, dtype=torch.float32)\n",
    "y_test_torch = torch.tensor(y_test.values, dtype=torch.float32)\n",
    "\n",
    "print(X_train_preprocessed_torch.shape, y_train_torch.shape)"
   ]
  },
  {
   "cell_type": "code",
   "execution_count": 80,
   "metadata": {},
   "outputs": [],
   "source": [
    "import torch \n",
    "import torch.nn as nn \n",
    "import torch.optim as optim \n",
    "from torchinfo import summary \n"
   ]
  },
  {
   "cell_type": "code",
   "execution_count": 81,
   "metadata": {},
   "outputs": [],
   "source": [
    "# class SimpleRegressionModel(nn.Module):\n",
    "#     def __init__(self, input_size):\n",
    "#         super().__init__()\n",
    "#         self.fc1 = nn.Linear(input_size, 1)\n",
    "\n",
    "#     def forward(self, x):\n",
    "#         x = self.fc1(x)\n",
    "#         return x\n",
    "\n",
    "\n",
    "# simple_regression_model = SimpleRegressionModel(input_size=34)\n",
    "\n",
    "# criterion = nn.MSELoss() \n",
    "\n",
    "# optimizer = optim.Adam(simple_regression_model.parameters(), lr = 0.001)\n",
    "\n",
    "\n",
    "# batch_size = 264\n",
    "# train_dataset = torch.utils.data.TensorDataset(\n",
    "#     X_train_preprocessed_torch, y_train_torch\n",
    "# )\n",
    "# train_loader = torch.utils.data.DataLoader(\n",
    "#     train_dataset, batch_size=batch_size, shuffle=True\n",
    "# )\n",
    "\n",
    "# val_dataset = torch.utils.data.TensorDataset(X_test_preprocessed_torch, y_test_torch)\n",
    "# val_loader = torch.utils.data.DataLoader(\n",
    "#     val_dataset, batch_size=batch_size, shuffle=True\n",
    "# )\n",
    "\n",
    "\n",
    "# epochs = 100\n",
    "\n",
    "# for epoch in range(epochs):\n",
    "#     simple_regression_model.train()\n",
    "#     total_loss = 0\n",
    "#     for X_batch, y_batch in train_loader:\n",
    "#         optimizer.zero_grad()\n",
    "#         preds = simple_regression_model(X_batch)\n",
    "#         loss = criterion(preds, y_batch)\n",
    "\n",
    "#         loss.backward()\n",
    "#         optimizer.step()\n",
    "#         total_loss += loss.item()\n",
    "\n",
    "#     simple_regression_model.eval()\n",
    "#     with torch.no_grad():\n",
    "#         val_loss = sum(\n",
    "#             criterion(simple_regression_model(Xv), yv) for Xv, yv in val_loader\n",
    "#         )\n",
    "\n",
    "#     if (epoch + 1) % 10 == 0 or epoch == 0: \n",
    "#         avg_train_loss = total_loss / len(train_loader) \n",
    "#         avg_val_loss = val_loss / len(val_loader) \n",
    "#         print(f\"Epoch [{epoch + 1}/{epochs}] | Train Loss: {avg_train_loss:.4f} | Val Loss: {avg_val_loss:.4f}\")\n"
   ]
  },
  {
   "cell_type": "code",
   "execution_count": 82,
   "metadata": {},
   "outputs": [],
   "source": [
    "# # Final Evaluation \n",
    "\n",
    "# with torch.no_grad(): \n",
    "#     predictions = simple_regression_model(X_test_preprocessed_torch) \n",
    "#     mse = criterion(predictions, y_test_torch).item() \n",
    "#     print(f\"\\nFinal Validation MSE: {mse:.4f}\")"
   ]
  },
  {
   "cell_type": "code",
   "execution_count": 83,
   "metadata": {},
   "outputs": [],
   "source": [
    "import mlflow \n",
    "import mlflow.pytorch \n",
    "import torchinfo\n",
    "\n"
   ]
  },
  {
   "cell_type": "code",
   "execution_count": 84,
   "metadata": {},
   "outputs": [],
   "source": [
    "def log_model_structure(model,input_size: int):\n",
    "    model_summary = torchinfo.summary(model,input_size=[input_size])\n",
    "    \n",
    "    mlflow.log_text(str(model_summary),'model_structure.txt')"
   ]
  },
  {
   "cell_type": "code",
   "execution_count": null,
   "metadata": {},
   "outputs": [],
   "source": [
    "class Model(nn.Module):\n",
    "    def __init__(self, input_size):\n",
    "        super().__init__()\n",
    "        self.fc1 = nn.Linear(input_size,64) \n",
    "        self.fc2 = nn.Linear(64,128) \n",
    "        self.fc3 = nn.Linear(128,64)\n",
    "        self.output_layer = nn.Linear(64, 1)\n",
    "        self.relu = nn.ReLU()\n",
    "\n",
    "    def forward(self, x):\n",
    "        x = self.fc1(x)\n",
    "        x = self.relu(x) \n",
    "        x = self.fc2(x)\n",
    "        x = self.relu(x) \n",
    "        x = self.fc3(x)\n",
    "        x = self.relu(x) \n",
    "        x = self.output_layer(x)\n",
    "        return x"
   ]
  },
  {
   "cell_type": "code",
   "execution_count": 86,
   "metadata": {},
   "outputs": [
    {
     "name": "stdout",
     "output_type": "stream",
     "text": [
      "Epoch [1/70] | Train Loss: 6.1356 | Val Loss: 6.4503\n",
      "Epoch [10/70] | Train Loss: 5.2180 | Val Loss: 5.3310\n",
      "Epoch [20/70] | Train Loss: 4.9464 | Val Loss: 5.3104\n",
      "Epoch [30/70] | Train Loss: 4.7375 | Val Loss: 5.3866\n",
      "Epoch [40/70] | Train Loss: 4.5278 | Val Loss: 5.6639\n",
      "Epoch [50/70] | Train Loss: 4.3134 | Val Loss: 5.9651\n",
      "Epoch [60/70] | Train Loss: 4.1922 | Val Loss: 5.9870\n",
      "Epoch [70/70] | Train Loss: 4.0112 | Val Loss: 5.5633\n"
     ]
    },
    {
     "name": "stderr",
     "output_type": "stream",
     "text": [
      "2025/03/25 10:36:46 WARNING mlflow.models.model: Model logged without a signature and input example. Please set `input_example` parameter when logging the model to auto infer the model signature.\n"
     ]
    }
   ],
   "source": [
    "import mlflow\n",
    "mlflow.set_experiment(\"pytorch-3d-prediction\")\n",
    "\n",
    "\n",
    "\n",
    "\n",
    "class Model(nn.Module):\n",
    "    def __init__(self, input_size):\n",
    "        super().__init__()\n",
    "        self.fc1 = nn.Linear(input_size,32) \n",
    "        self.fc2 = nn.Linear(32,32) \n",
    "        self.output_layer = nn.Linear(32, 1)\n",
    "        self.relu = nn.ReLU()\n",
    "\n",
    "    def forward(self, x):\n",
    "        x = self.fc1(x)\n",
    "        x = self.relu(x) \n",
    "        x = self.fc2(x)\n",
    "        x = self.relu(x) \n",
    "        x = self.output_layer(x)\n",
    "        return x\n",
    "\n",
    "\n",
    "\n",
    "\n",
    "\n",
    "EPOCHS = 70\n",
    "BATCH_SIZE = 8\n",
    "OPTIMIZER = \"ADAM\"\n",
    "LEARNING_RATE = 0.001\n",
    "CRITERION = \"MSELoss\"\n",
    "INPUT_SIZE = 34\n",
    "\n",
    "\n",
    "model = Model(input_size=INPUT_SIZE)\n",
    "\n",
    "criterion = nn.MSELoss() \n",
    "\n",
    "optimizer = optim.Adam(model.parameters(), lr=LEARNING_RATE)\n",
    "\n",
    "\n",
    "train_dataset = torch.utils.data.TensorDataset(\n",
    "    X_train_preprocessed_torch, y_train_torch\n",
    ")\n",
    "train_loader = torch.utils.data.DataLoader(\n",
    "    train_dataset, batch_size=BATCH_SIZE, shuffle=True\n",
    ")\n",
    "\n",
    "val_dataset = torch.utils.data.TensorDataset(X_test_preprocessed_torch, y_test_torch)\n",
    "val_loader = torch.utils.data.DataLoader(\n",
    "    val_dataset, batch_size=BATCH_SIZE, shuffle=True\n",
    ")\n",
    "\n",
    "\n",
    "criterion = nn.MSELoss()\n",
    "\n",
    "optimizer = optim.Adam(model.parameters(), lr=0.001)\n",
    "\n",
    "with mlflow.start_run(run_name='Linear Model with 3 FC Layers'):\n",
    "    mlflow.log_params(\n",
    "        {\n",
    "            \"epochs\": EPOCHS,\n",
    "            \"batch_size\": BATCH_SIZE,\n",
    "            \"optimizer\": OPTIMIZER,\n",
    "            \"learning_rate\": LEARNING_RATE,\n",
    "            \"criterion\": CRITERION,\n",
    "        }\n",
    "    )\n",
    "    log_model_structure(model, input_size=INPUT_SIZE) \n",
    "\n",
    "    for epoch in range(EPOCHS):\n",
    "        model.train()\n",
    "        total_loss = 0\n",
    "        for X_batch, y_batch in train_loader:\n",
    "            optimizer.zero_grad()\n",
    "            preds = model(X_batch)\n",
    "            loss = criterion(preds, y_batch)\n",
    "\n",
    "            loss.backward()\n",
    "            optimizer.step()\n",
    "            total_loss += loss.item()\n",
    "\n",
    "        model.eval()\n",
    "        with torch.no_grad():\n",
    "            val_loss = sum(\n",
    "                criterion(model(Xv), yv) for Xv, yv in val_loader\n",
    "            )\n",
    "\n",
    "        if (epoch + 1) % 10 == 0 or epoch == 0: \n",
    "            avg_train_loss = total_loss / len(train_loader) \n",
    "            avg_val_loss = val_loss / len(val_loader) \n",
    "            print(f\"Epoch [{epoch + 1}/{EPOCHS}] | Train Loss: {avg_train_loss:.4f} | Val Loss: {avg_val_loss:.4f}\")\n",
    "            mlflow.log_metric(\"train_loss\", avg_train_loss, step=epoch + 1) \n",
    "            mlflow.log_metric(\"validation_loss\", avg_val_loss, step= epoch + 1 )\n",
    "    \n",
    "    mlflow.log_metric(\"final_train_loss\", total_loss / len(train_loader))\n",
    "    mlflow.log_metric(\"final_val_loss\", val_loss / len(val_loader))\n",
    "    mlflow.pytorch.log_model(pytorch_model=model, artifact_path='model')\n",
    "            \n",
    "\n"
   ]
  },
  {
   "cell_type": "code",
   "execution_count": null,
   "metadata": {},
   "outputs": [],
   "source": []
  },
  {
   "cell_type": "code",
   "execution_count": 64,
   "metadata": {},
   "outputs": [],
   "source": [
    "x = summary(model,input_size=[34])"
   ]
  },
  {
   "cell_type": "code",
   "execution_count": 65,
   "metadata": {},
   "outputs": [
    {
     "data": {
      "text/plain": [
       "==========================================================================================\n",
       "Layer (type:depth-idx)                   Output Shape              Param #\n",
       "==========================================================================================\n",
       "Model                                    [1]                       --\n",
       "├─Linear: 1-1                            [64]                      2,240\n",
       "├─ReLU: 1-2                              [64]                      --\n",
       "├─Linear: 1-3                            [128]                     8,320\n",
       "├─ReLU: 1-4                              [128]                     --\n",
       "├─Linear: 1-5                            [64]                      8,256\n",
       "├─ReLU: 1-6                              [64]                      --\n",
       "├─Linear: 1-7                            [1]                       65\n",
       "==========================================================================================\n",
       "Total params: 18,881\n",
       "Trainable params: 18,881\n",
       "Non-trainable params: 0\n",
       "Total mult-adds (Units.MEGABYTES): 1.74\n",
       "==========================================================================================\n",
       "Input size (MB): 0.00\n",
       "Forward/backward pass size (MB): 0.00\n",
       "Params size (MB): 0.08\n",
       "Estimated Total Size (MB): 0.08\n",
       "=========================================================================================="
      ]
     },
     "execution_count": 65,
     "metadata": {},
     "output_type": "execute_result"
    }
   ],
   "source": [
    "x"
   ]
  },
  {
   "cell_type": "code",
   "execution_count": null,
   "metadata": {},
   "outputs": [],
   "source": []
  }
 ],
 "metadata": {
  "kernelspec": {
   "display_name": "flask_env",
   "language": "python",
   "name": "python3"
  },
  "language_info": {
   "codemirror_mode": {
    "name": "ipython",
    "version": 3
   },
   "file_extension": ".py",
   "mimetype": "text/x-python",
   "name": "python",
   "nbconvert_exporter": "python",
   "pygments_lexer": "ipython3",
   "version": "3.12.0"
  }
 },
 "nbformat": 4,
 "nbformat_minor": 2
}
