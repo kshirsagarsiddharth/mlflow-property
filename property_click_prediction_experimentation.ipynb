{
 "cells": [
  {
   "cell_type": "code",
   "execution_count": 28,
   "metadata": {},
   "outputs": [],
   "source": [
    "import pandas as pd \n",
    "import numpy as np \n",
    "import torch \n",
    "from sklearn.pipeline import Pipeline \n",
    "from sklearn.impute import SimpleImputer \n",
    "from sklearn.compose import ColumnTransformer \n",
    "from sklearn.model_selection import train_test_split\n",
    "from sklearn.preprocessing import LabelEncoder \n",
    "from sklearn.preprocessing import OneHotEncoder, StandardScaler \n",
    "from sklearn.metrics import mean_absolute_error, mean_squared_error, r2_score, root_mean_squared_error "
   ]
  },
  {
   "cell_type": "code",
   "execution_count": 29,
   "metadata": {},
   "outputs": [],
   "source": [
    "df = pd.read_parquet('data.parquet')\n",
    "df['total_floor'] = df['total_floor'].fillna('-999') \n",
    "df['building_type'] = df['building_type'].fillna('missing')"
   ]
  },
  {
   "cell_type": "code",
   "execution_count": 30,
   "metadata": {},
   "outputs": [],
   "source": [
    "def train_test_split_features(X,y): \n",
    "    X_train, X_test, y_train, y_test = train_test_split(X, y, test_size=0.2, random_state=2) \n",
    "    return X_train, X_test, y_train, y_test\n"
   ]
  },
  {
   "cell_type": "code",
   "execution_count": 31,
   "metadata": {},
   "outputs": [],
   "source": [
    "X = df.drop(columns=['request_day_within_7d', '7d_class', 'request_day_within_3d', '3d_class'])\n",
    "y_set = df[['request_day_within_7d', '7d_class', 'request_day_within_3d', '3d_class']]\n",
    "y_regression_7d = df[['request_day_within_7d']]\n",
    "y_regression_3d = df[['request_day_within_3d']]\n",
    "\n",
    "\n",
    "encoder_7d = LabelEncoder()\n",
    "y_classification_7d = encoder_7d.fit_transform(df['7d_class'])\n",
    "\n",
    "\n",
    "encoder_3d = LabelEncoder()\n",
    "y_classification_3d = encoder_3d.fit_transform(df['3d_class'])"
   ]
  },
  {
   "cell_type": "code",
   "execution_count": 32,
   "metadata": {},
   "outputs": [],
   "source": [
    "numerical_features = [\n",
    "    \"bathroom\",\n",
    "    \"floor\",\n",
    "    \"total_floor\",\n",
    "    \"gym\",\n",
    "    \"latitude\",\n",
    "    \"longitude\",\n",
    "    \"lift\",\n",
    "    \"property_age\",\n",
    "    \"property_size\",\n",
    "    \"swimming_pool\",\n",
    "    \"rent\",\n",
    "    \"deposit\",\n",
    "    \"photo_count\",\n",
    "]\n",
    "\n",
    "categorical_features = ['type','furnishing','lease_type','parking','building_type']"
   ]
  },
  {
   "cell_type": "code",
   "execution_count": 33,
   "metadata": {},
   "outputs": [],
   "source": [
    "numerical_transformer = StandardScaler()\n",
    "categorical_transformer = OneHotEncoder()\n",
    "\n",
    "preprocessor = ColumnTransformer(\n",
    "    transformers=[\n",
    "        (\"num\", numerical_transformer, numerical_features),\n",
    "        (\"cat\", categorical_transformer, categorical_features),\n",
    "    ]\n",
    ")\n",
    "\n",
    "preprocessing_pipeline = Pipeline([\n",
    "    ('preprocessor',preprocessor)\n",
    "])"
   ]
  },
  {
   "cell_type": "code",
   "execution_count": 34,
   "metadata": {},
   "outputs": [],
   "source": [
    "# cat_features = list(preprocessor.named_transformers_['cat'].get_feature_names_out(categorical_features))"
   ]
  },
  {
   "cell_type": "markdown",
   "metadata": {},
   "source": [
    "## Baseline Model "
   ]
  },
  {
   "cell_type": "code",
   "execution_count": 36,
   "metadata": {},
   "outputs": [],
   "source": [
    "X_train, X_test, y_train, y_test = train_test_split_features(X,y_regression_3d)\n",
    "\n",
    "\n",
    "X_train_preprocessed = preprocessing_pipeline.fit_transform(X_train) \n",
    "X_test_preprocessed = preprocessing_pipeline.transform(X_test) "
   ]
  },
  {
   "cell_type": "code",
   "execution_count": 39,
   "metadata": {},
   "outputs": [
    {
     "name": "stdout",
     "output_type": "stream",
     "text": [
      "Baseline MSE 6.04243435113111\n"
     ]
    }
   ],
   "source": [
    "from sklearn.linear_model import LinearRegression \n",
    "baseline_linear_regression = LinearRegression() \n",
    "baseline_linear_regression.fit(X_train_preprocessed, y_train) \n",
    "print(f\"Baseline MSE {mean_squared_error(y_test, baseline_linear_regression.predict(X_test_preprocessed))}\")"
   ]
  },
  {
   "cell_type": "markdown",
   "metadata": {},
   "source": [
    "### Torch Experiment "
   ]
  },
  {
   "cell_type": "code",
   "execution_count": 19,
   "metadata": {},
   "outputs": [
    {
     "name": "stdout",
     "output_type": "stream",
     "text": [
      "torch.Size([25999, 34]) torch.Size([25999, 1])\n"
     ]
    }
   ],
   "source": [
    "X_train, X_test, y_train, y_test = train_test_split_features(X,y_regression_3d)\n",
    "\n",
    "\n",
    "X_train_preprocessed = preprocessing_pipeline.fit_transform(X_train) \n",
    "X_test_preprocessed = preprocessing_pipeline.transform(X_test) \n",
    "\n",
    "\n",
    "X_train_preprocessed_torch = torch.tensor(X_train_preprocessed, dtype=torch.float32)\n",
    "X_test_preprocessed_torch = torch.tensor(X_test_preprocessed, dtype=torch.float32)\n",
    "y_train_torch = torch.tensor(y_train.values, dtype=torch.float32)\n",
    "y_test_torch = torch.tensor(y_test.values, dtype=torch.float32)\n",
    "\n",
    "print(X_train_preprocessed_torch.shape, y_train_torch.shape)"
   ]
  },
  {
   "cell_type": "code",
   "execution_count": 20,
   "metadata": {},
   "outputs": [],
   "source": [
    "import torch \n",
    "import torch.nn as nn \n",
    "import torch.optim as optim \n"
   ]
  },
  {
   "cell_type": "code",
   "execution_count": 21,
   "metadata": {},
   "outputs": [],
   "source": [
    "class SimpleRegressionModel(nn.Module):\n",
    "    def __init__(self, input_size):\n",
    "        super().__init__()\n",
    "        self.fc1 = nn.Linear(input_size, 1)\n",
    "\n",
    "    def forward(self, x):\n",
    "        x = self.fc1(x)\n",
    "        return x\n",
    "\n",
    "\n",
    "simple_regression_model = SimpleRegressionModel(input_size=34)\n",
    "\n",
    "criterion = nn.MSELoss() \n",
    "\n",
    "optimizer = optim.Adam(simple_regression_model.parameters(), lr = 0.001)"
   ]
  },
  {
   "cell_type": "code",
   "execution_count": 22,
   "metadata": {},
   "outputs": [
    {
     "name": "stdout",
     "output_type": "stream",
     "text": [
      "Epoch [1/100] | Train Loss: 8.2532 | Val Loss: 8.3356\n",
      "Epoch [10/100] | Train Loss: 6.1646 | Val Loss: 6.7724\n",
      "Epoch [20/100] | Train Loss: 6.0857 | Val Loss: 6.7353\n",
      "Epoch [30/100] | Train Loss: 6.1871 | Val Loss: 6.6953\n",
      "Epoch [40/100] | Train Loss: 6.0886 | Val Loss: 6.6864\n",
      "Epoch [50/100] | Train Loss: 6.0787 | Val Loss: 6.6808\n",
      "Epoch [60/100] | Train Loss: 6.0846 | Val Loss: 6.6846\n",
      "Epoch [70/100] | Train Loss: 6.0741 | Val Loss: 6.6867\n",
      "Epoch [80/100] | Train Loss: 6.0797 | Val Loss: 6.6793\n",
      "Epoch [90/100] | Train Loss: 6.0778 | Val Loss: 6.6764\n",
      "Epoch [100/100] | Train Loss: 6.0763 | Val Loss: 6.6746\n"
     ]
    }
   ],
   "source": [
    "batch_size = 264\n",
    "train_dataset = torch.utils.data.TensorDataset(\n",
    "    X_train_preprocessed_torch, y_train_torch\n",
    ")\n",
    "train_loader = torch.utils.data.DataLoader(\n",
    "    train_dataset, batch_size=batch_size, shuffle=True\n",
    ")\n",
    "\n",
    "val_dataset = torch.utils.data.TensorDataset(X_test_preprocessed_torch, y_test_torch)\n",
    "val_loader = torch.utils.data.DataLoader(\n",
    "    val_dataset, batch_size=batch_size, shuffle=True\n",
    ")\n",
    "\n",
    "\n",
    "epochs = 100\n",
    "\n",
    "for epoch in range(epochs):\n",
    "    simple_regression_model.train()\n",
    "    total_loss = 0\n",
    "    for X_batch, y_batch in train_loader:\n",
    "        optimizer.zero_grad()\n",
    "        preds = simple_regression_model(X_batch)\n",
    "        loss = criterion(preds, y_batch)\n",
    "\n",
    "        loss.backward()\n",
    "        optimizer.step()\n",
    "        total_loss += loss.item()\n",
    "\n",
    "    simple_regression_model.eval()\n",
    "    with torch.no_grad():\n",
    "        val_loss = sum(\n",
    "            criterion(simple_regression_model(Xv), yv) for Xv, yv in val_loader\n",
    "        )\n",
    "\n",
    "    if (epoch + 1) % 10 == 0 or epoch == 0: \n",
    "        avg_train_loss = total_loss / len(train_loader) \n",
    "        avg_val_loss = val_loss / len(val_loader) \n",
    "        print(f\"Epoch [{epoch + 1}/{epochs}] | Train Loss: {avg_train_loss:.4f} | Val Loss: {avg_val_loss:.4f}\")\n"
   ]
  },
  {
   "cell_type": "code",
   "execution_count": 25,
   "metadata": {},
   "outputs": [
    {
     "name": "stdout",
     "output_type": "stream",
     "text": [
      "\n",
      "Final Validation MSE: 6.6880\n"
     ]
    }
   ],
   "source": [
    "# Final Evaluation \n",
    "\n",
    "with torch.no_grad(): \n",
    "    predictions = simple_regression_model(X_test_preprocessed_torch) \n",
    "    mse = criterion(predictions, y_test_torch).item() \n",
    "    print(f\"\\nFinal Validation MSE: {mse:.4f}\")"
   ]
  },
  {
   "cell_type": "code",
   "execution_count": null,
   "metadata": {},
   "outputs": [
    {
     "data": {
      "text/plain": [
       "np.float64(2.5861220740516044)"
      ]
     },
     "execution_count": 26,
     "metadata": {},
     "output_type": "execute_result"
    }
   ],
   "source": [
    "import mlflow \n",
    "import mlflow.pytorch \n",
    "\n",
    "\n"
   ]
  },
  {
   "cell_type": "code",
   "execution_count": 57,
   "metadata": {},
   "outputs": [],
   "source": [
    "def log_model_structure(model):\n",
    "    layers = {}\n",
    "    for name, module in model.named_modules():\n",
    "        if name == \"\":\n",
    "            continue\n",
    "    layers[name] = {\n",
    "        \"type\": module.__class__.__name__,\n",
    "        \"parameters\": sum(p.numel() for p in module.parameters()),\n",
    "        \"trainable_parameters\": sum(\n",
    "            p.numel() for p in module.parameters() if p.requires_grad\n",
    "        ),\n",
    "    }\n",
    "\n",
    "    mlflow.log_dict(layers,'model_structure.json')"
   ]
  },
  {
   "cell_type": "code",
   "execution_count": null,
   "metadata": {},
   "outputs": [],
   "source": [
    "mlflow.set_experiment(\"pytorch-3d-prediction\")\n",
    "\n",
    "\n",
    "\n",
    "class SimpleRegressionModel(nn.Module):\n",
    "    def __init__(self, input_size):\n",
    "        super().__init__()\n",
    "        self.fc1 = nn.Linear(input_size, 1)\n",
    "\n",
    "    def forward(self, x):\n",
    "        x = self.fc1(x)\n",
    "        return x\n",
    "\n",
    "\n",
    "simple_regression_model = SimpleRegressionModel(input_size=34)\n",
    "\n",
    "criterion = nn.MSELoss() \n",
    "\n",
    "optimizer = optim.Adam(simple_regression_model.parameters(), lr = 0.001)\n",
    "\n",
    "\n",
    "\n",
    "EPOCHS = 100\n",
    "BATCH_SIZE = 32\n",
    "OPTIMIZER = \"ADAM\"\n",
    "LEARNING_RATE = 0.001\n",
    "CRITERION = \"MSELoss\"\n",
    "\n",
    "\n",
    "train_dataset = torch.utils.data.TensorDataset(\n",
    "    X_train_preprocessed_torch, y_train_torch\n",
    ")\n",
    "train_loader = torch.utils.data.DataLoader(\n",
    "    train_dataset, batch_size=BATCH_SIZE, shuffle=True\n",
    ")\n",
    "\n",
    "val_dataset = torch.utils.data.TensorDataset(X_test_preprocessed_torch, y_test_torch)\n",
    "val_loader = torch.utils.data.DataLoader(\n",
    "    val_dataset, batch_size=BATCH_SIZE, shuffle=True\n",
    ")\n",
    "\n",
    "\n",
    "criterion = nn.MSELoss()\n",
    "\n",
    "optimizer = optim.Adam(simple_regression_model.parameters(), lr=0.001)\n",
    "\n",
    "with mlflow.start_run():\n",
    "    mlflow.log_params(\n",
    "        {\n",
    "            \"epochs\": EPOCHS,\n",
    "            \"batch_size\": BATCH_SIZE,\n",
    "            \"optimizer\": OPTIMIZER,\n",
    "            \"learning_rate\": LEARNING_RATE,\n",
    "            \"criterion\": CRITERION,\n",
    "        }\n",
    "    )\n",
    "    log_model_structure(simple_regression_model) \n",
    "\n",
    "    for epoch in range(EPOCHS):\n",
    "        simple_regression_model.train()\n",
    "        total_loss = 0\n",
    "        for X_batch, y_batch in train_loader:\n",
    "            optimizer.zero_grad()\n",
    "            preds = simple_regression_model(X_batch)\n",
    "            loss = criterion(preds, y_batch)\n",
    "\n",
    "            loss.backward()\n",
    "            optimizer.step()\n",
    "            total_loss += loss.item()\n",
    "\n",
    "        simple_regression_model.eval()\n",
    "        with torch.no_grad():\n",
    "            val_loss = sum(\n",
    "                criterion(simple_regression_model(Xv), yv) for Xv, yv in val_loader\n",
    "            )\n",
    "\n",
    "        if (epoch + 1) % 10 == 0 or epoch == 0: \n",
    "            avg_train_loss = total_loss / len(train_loader) \n",
    "            avg_val_loss = val_loss / len(val_loader) \n",
    "            print(f\"Epoch [{epoch + 1}/{epochs}] | Train Loss: {avg_train_loss:.4f} | Val Loss: {avg_val_loss:.4f}\")\n",
    "            mlflow.log_metric(\"train_loss\", avg_train_loss, step=epoch + 1) \n",
    "            mlflow.log_metric(\"validation_loss\", avg_val_loss, step= epoch + 1 )\n",
    "    \n",
    "    mlflow.log_metric(\"final_train_loss\", total_loss / len(train_loader))\n",
    "    mlflow.log_metric(\"final_val_loss\", val_loss / len(val_loader))\n",
    "            \n",
    "\n"
   ]
  }
 ],
 "metadata": {
  "kernelspec": {
   "display_name": "flask_env",
   "language": "python",
   "name": "python3"
  },
  "language_info": {
   "codemirror_mode": {
    "name": "ipython",
    "version": 3
   },
   "file_extension": ".py",
   "mimetype": "text/x-python",
   "name": "python",
   "nbconvert_exporter": "python",
   "pygments_lexer": "ipython3",
   "version": "3.12.0"
  }
 },
 "nbformat": 4,
 "nbformat_minor": 2
}
