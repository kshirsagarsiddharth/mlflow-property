{
 "cells": [
  {
   "cell_type": "code",
   "execution_count": 65,
   "metadata": {},
   "outputs": [],
   "source": [
    "import pandas as pd \n",
    "import numpy as np \n",
    "\n",
    "import torch \n",
    "import torch.nn as nn \n",
    "import torch.optim as optim \n",
    "import mlflow \n",
    "import mlflow.pytorch \n",
    "import torchinfo\n",
    "from torchinfo import summary \n",
    "\n",
    "from sklearn.pipeline import Pipeline \n",
    "from sklearn.impute import SimpleImputer \n",
    "from sklearn.compose import ColumnTransformer \n",
    "from sklearn.model_selection import train_test_split\n",
    "from sklearn.preprocessing import LabelEncoder \n",
    "from sklearn.preprocessing import OneHotEncoder, StandardScaler \n",
    "from sklearn.metrics import mean_absolute_error, mean_squared_error, r2_score, root_mean_squared_error "
   ]
  },
  {
   "cell_type": "code",
   "execution_count": 66,
   "metadata": {},
   "outputs": [],
   "source": [
    "df = pd.read_parquet('data.parquet')\n",
    "df['total_floor'] = df['total_floor'].fillna('-999') \n",
    "df['building_type'] = df['building_type'].fillna('missing')"
   ]
  },
  {
   "cell_type": "code",
   "execution_count": 67,
   "metadata": {},
   "outputs": [],
   "source": [
    "def train_test_split_features(X,y): \n",
    "    X_train, X_test, y_train, y_test = train_test_split(X, y, test_size=0.2,random_state=45) \n",
    "    return X_train, X_test, y_train, y_test\n"
   ]
  },
  {
   "cell_type": "code",
   "execution_count": 68,
   "metadata": {},
   "outputs": [],
   "source": [
    "X = df.drop(columns=['request_day_within_7d', '7d_class', 'request_day_within_3d', '3d_class'])\n",
    "y_set = df[['request_day_within_7d', '7d_class', 'request_day_within_3d', '3d_class']]\n",
    "\n",
    "y_regression_7d = df[['request_day_within_7d']]\n",
    "y_regression_3d = df[['request_day_within_3d']]\n",
    "\n",
    "y_regression_3d_log = np.log1p(y_regression_3d) \n",
    "y_regression_7d_log = np.log1p(y_regression_7d) \n",
    "\n",
    "\n",
    "\n",
    "encoder_7d = LabelEncoder()\n",
    "y_classification_7d = encoder_7d.fit_transform(df['7d_class'])\n",
    "\n",
    "\n",
    "encoder_3d = LabelEncoder()\n",
    "y_classification_3d = encoder_3d.fit_transform(df['3d_class'])"
   ]
  },
  {
   "cell_type": "code",
   "execution_count": 69,
   "metadata": {},
   "outputs": [],
   "source": [
    "numerical_features = [\n",
    "    \"bathroom\",\n",
    "    \"floor\",\n",
    "    \"total_floor\",\n",
    "    \"gym\",\n",
    "    \"latitude\",\n",
    "    \"longitude\",\n",
    "    \"lift\",\n",
    "    \"property_age\",\n",
    "    \"property_size\",\n",
    "    \"swimming_pool\",\n",
    "    \"rent\",\n",
    "    \"deposit\",\n",
    "    \"photo_count\",\n",
    "]\n",
    "\n",
    "categorical_features = [\"type\", \"furnishing\", \"lease_type\", \"parking\", \"building_type\"]"
   ]
  },
  {
   "cell_type": "code",
   "execution_count": 70,
   "metadata": {},
   "outputs": [],
   "source": [
    "numerical_transformer = StandardScaler()\n",
    "categorical_transformer = OneHotEncoder()\n",
    "\n",
    "preprocessor = ColumnTransformer(\n",
    "    transformers=[\n",
    "        (\"num\", numerical_transformer, numerical_features),\n",
    "        (\"cat\", categorical_transformer, categorical_features),\n",
    "    ]\n",
    ")\n",
    "\n",
    "preprocessing_pipeline = Pipeline([\n",
    "    ('preprocessor',preprocessor)\n",
    "])"
   ]
  },
  {
   "cell_type": "code",
   "execution_count": 71,
   "metadata": {},
   "outputs": [],
   "source": [
    "def return_torch_splits(X,y):\n",
    "    X_train, X_test, y_train, y_test = train_test_split_features(X,y)\n",
    "\n",
    "\n",
    "    X_train_preprocessed = preprocessing_pipeline.fit_transform(X_train) \n",
    "    X_test_preprocessed = preprocessing_pipeline.transform(X_test) \n",
    "\n",
    "\n",
    "    X_train_preprocessed_torch = torch.tensor(X_train_preprocessed, dtype=torch.float32)\n",
    "    X_test_preprocessed_torch = torch.tensor(X_test_preprocessed, dtype=torch.float32)\n",
    "    y_train_torch = torch.tensor(y_train.values, dtype=torch.float32)\n",
    "    y_test_torch = torch.tensor(y_test.values, dtype=torch.float32)\n",
    "\n",
    "    return X_train_preprocessed_torch, X_test_preprocessed_torch, y_train_torch, y_test_torch"
   ]
  },
  {
   "cell_type": "code",
   "execution_count": 72,
   "metadata": {},
   "outputs": [],
   "source": [
    "def log_model_structure(model,input_size: int):\n",
    "    model_summary = torchinfo.summary(model,input_size=[input_size])\n",
    "    \n",
    "    mlflow.log_text(str(model_summary),'model_structure.txt')"
   ]
  },
  {
   "cell_type": "code",
   "execution_count": 73,
   "metadata": {},
   "outputs": [],
   "source": [
    "def compute_mse(y_true, y_pred):\n",
    "    return ((y_true - y_pred) ** 2).mean()\n",
    "\n",
    "def compute_rmse(y_true, y_pred):\n",
    "    return torch.sqrt(compute_mse(y_true, y_pred))\n",
    "\n",
    "def compute_mae(y_true, y_pred):\n",
    "    return torch.abs(y_true - y_pred).mean()"
   ]
  },
  {
   "cell_type": "markdown",
   "metadata": {},
   "source": [
    "## Regression"
   ]
  },
  {
   "cell_type": "code",
   "execution_count": 74,
   "metadata": {},
   "outputs": [],
   "source": [
    "class Model(nn.Module):\n",
    "    def __init__(self, input_size):\n",
    "        super().__init__()\n",
    "        self.fc1 = nn.Linear(input_size,32) \n",
    "        self.fc2 = nn.Linear(32,32) \n",
    "        self.output_layer = nn.Linear(32, 1)\n",
    "        self.relu = nn.ReLU()\n",
    "        self.dropout = nn.Dropout(p = 0.4)\n",
    "\n",
    "    def forward(self, x):\n",
    "        x = self.fc1(x)\n",
    "        x = self.relu(x) \n",
    "        x = self.dropout(x)\n",
    "        x = self.fc2(x)\n",
    "        x = self.relu(x) \n",
    "        x = self.dropout(x)\n",
    "        x = self.output_layer(x)\n",
    "        return x"
   ]
  },
  {
   "cell_type": "code",
   "execution_count": 75,
   "metadata": {},
   "outputs": [],
   "source": [
    "EPOCHS = 80 \n",
    "BATCH_SIZE = 62\n",
    "OPTIMIZER = \"ADAM\"\n",
    "LEARNING_RATE = 0.001\n",
    "CRITERION = \"HuberLoss\"\n",
    "INPUT_SIZE = 34\n",
    "WEIGHT_DECAY = 1e-2\n",
    "HUBER_LOSS_DELTA = 1.0 \n",
    "RUN_NAME = \"dropout-relu-mse-loss-complex-model\"\n",
    "SMOOTHING_Y = 'NA'"
   ]
  },
  {
   "cell_type": "code",
   "execution_count": 76,
   "metadata": {},
   "outputs": [],
   "source": [
    "model = Model(input_size=INPUT_SIZE)\n",
    "\n",
    "criterion = nn.HuberLoss(delta=HUBER_LOSS_DELTA) \n",
    "\n",
    "optimizer = optim.Adam(model.parameters(), lr=LEARNING_RATE, weight_decay=WEIGHT_DECAY)"
   ]
  },
  {
   "cell_type": "markdown",
   "metadata": {},
   "source": [
    "## Regression 3d"
   ]
  },
  {
   "cell_type": "code",
   "execution_count": 77,
   "metadata": {},
   "outputs": [],
   "source": [
    "\n",
    "X_train_preprocessed_torch, X_test_preprocessed_torch, y_train_torch, y_test_torch = return_torch_splits(X, y_regression_3d)\n",
    "\n",
    "train_dataset = torch.utils.data.TensorDataset(\n",
    "    X_train_preprocessed_torch, y_train_torch\n",
    ")\n",
    "train_loader = torch.utils.data.DataLoader(\n",
    "    train_dataset, batch_size=BATCH_SIZE, shuffle=True\n",
    ")\n",
    "\n",
    "val_dataset = torch.utils.data.TensorDataset(X_test_preprocessed_torch, y_test_torch)\n",
    "val_loader = torch.utils.data.DataLoader(\n",
    "    val_dataset, batch_size=BATCH_SIZE, shuffle=True\n",
    ")"
   ]
  },
  {
   "cell_type": "code",
   "execution_count": 78,
   "metadata": {},
   "outputs": [
    {
     "data": {
      "text/plain": [
       "<Experiment: artifact_location='mlflow-artifacts:/246515668344709527', creation_time=1742966815476, experiment_id='246515668344709527', last_update_time=1742966815476, lifecycle_stage='active', name='regression-3d-predictions', tags={}>"
      ]
     },
     "execution_count": 78,
     "metadata": {},
     "output_type": "execute_result"
    }
   ],
   "source": [
    "mlflow.set_tracking_uri('http://127.0.0.1:5000/')\n",
    "mlflow.set_experiment(\"regression-3d-predictions\")\n"
   ]
  },
  {
   "cell_type": "code",
   "execution_count": 79,
   "metadata": {},
   "outputs": [
    {
     "name": "stdout",
     "output_type": "stream",
     "text": [
      "Epoch [1/80] | Train Loss: 0.9223 | Val Loss: 0.8619 | Val MSE: 6.6823 | Val RMSE: 0.0115 | Val MAE: 1.2468\n",
      "Epoch [10/80] | Train Loss: 0.8868 | Val Loss: 0.8545 | Val MSE: 6.4688 | Val RMSE: 0.0124 | Val MAE: 1.2458\n",
      "Epoch [20/80] | Train Loss: 0.8874 | Val Loss: 0.8567 | Val MSE: 6.4759 | Val RMSE: 0.0216 | Val MAE: 1.2487\n",
      "Epoch [30/80] | Train Loss: 0.8873 | Val Loss: 0.8513 | Val MSE: 6.3949 | Val RMSE: 0.0187 | Val MAE: 1.2433\n",
      "Epoch [40/80] | Train Loss: 0.8850 | Val Loss: 0.8462 | Val MSE: 6.4155 | Val RMSE: 0.0056 | Val MAE: 1.2367\n",
      "Epoch [50/80] | Train Loss: 0.8854 | Val Loss: 0.8529 | Val MSE: 6.4661 | Val RMSE: 0.0279 | Val MAE: 1.2445\n",
      "Epoch [60/80] | Train Loss: 0.8859 | Val Loss: 0.8678 | Val MSE: 6.8578 | Val RMSE: 0.0742 | Val MAE: 1.2582\n",
      "Epoch [70/80] | Train Loss: 0.8843 | Val Loss: 0.8495 | Val MSE: 6.3323 | Val RMSE: 0.0114 | Val MAE: 1.2444\n",
      "Epoch [80/80] | Train Loss: 0.8865 | Val Loss: 0.8484 | Val MSE: 6.4740 | Val RMSE: 0.0113 | Val MAE: 1.2376\n",
      "🏃 View run inquisitive-auk-592 at: http://127.0.0.1:5000/#/experiments/246515668344709527/runs/1db036a4df09429da210b0a8dec1a705\n",
      "🧪 View experiment at: http://127.0.0.1:5000/#/experiments/246515668344709527\n"
     ]
    }
   ],
   "source": [
    "with mlflow.start_run():\n",
    "    mlflow.log_params(\n",
    "        {\n",
    "            \"epochs\": EPOCHS,\n",
    "            \"batch_size\": BATCH_SIZE,\n",
    "            \"optimizer\": OPTIMIZER,\n",
    "            \"learning_rate\": LEARNING_RATE,\n",
    "            \"criterion\": CRITERION,\n",
    "            \"input_size\": INPUT_SIZE,\n",
    "            \"weight_decay\": WEIGHT_DECAY,\n",
    "            \"huber_loss_delta\": HUBER_LOSS_DELTA,\n",
    "            \"smoothing_y\": SMOOTHING_Y,\n",
    "        }\n",
    "    )\n",
    "\n",
    "    log_model_structure(model, INPUT_SIZE)\n",
    "\n",
    "    for epoch in range(EPOCHS):\n",
    "        model.train()\n",
    "        total_loss = 0\n",
    "        total_train_rmse = 0\n",
    "        for X_batch, y_batch in train_loader:\n",
    "            optimizer.zero_grad()\n",
    "            predictions = model(X_batch)\n",
    "            loss = criterion(predictions, y_batch)\n",
    "            train_rmse = criterion(predictions, y_batch)\n",
    "\n",
    "            loss.backward()\n",
    "            optimizer.step()\n",
    "            total_loss += loss.item()\n",
    "            total_train_rmse += train_rmse.item()\n",
    "\n",
    "        model.eval()\n",
    "        with torch.no_grad():\n",
    "            val_loss = 0\n",
    "            total_mse = 0\n",
    "            total_rmse = 0\n",
    "            total_mae = 0\n",
    "            for Xv, yv in val_loader:\n",
    "                outputs = model(Xv)\n",
    "\n",
    "                val_loss += criterion(outputs, yv).item()\n",
    "\n",
    "                # Compute metrics for a batch\n",
    "                mse = compute_mse(yv, outputs)\n",
    "                rmse = compute_rmse(yv, outputs)\n",
    "                mae = compute_mae(yv, outputs)\n",
    "\n",
    "                total_mse += mse.item()\n",
    "                total_rmse = rmse.item()\n",
    "                total_mae += mae.item()\n",
    "\n",
    "            # Compute Averages\n",
    "            avg_val_loss = val_loss / len(val_loader)\n",
    "            avg_mse = total_mse / len(val_loader)\n",
    "            avg_rmse = total_rmse / len(val_loader)\n",
    "            avg_mae = total_mae / len(val_loader)\n",
    "\n",
    "        if (epoch + 1) % 10 == 0 or epoch == 0:\n",
    "            avg_train_loss = total_loss / len(train_loader)\n",
    "            avg_train_rmse = total_train_rmse / len(train_loader)\n",
    "            print(\n",
    "                f\"Epoch [{epoch + 1}/{EPOCHS}] | Train Loss: {avg_train_loss:.4f} | \"\n",
    "                f\"Val Loss: {avg_val_loss:.4f} | Val MSE: {avg_mse:.4f} | \"\n",
    "                f\"Val RMSE: {avg_rmse:.4f} | Val MAE: {avg_mae:.4f}\"\n",
    "            )\n",
    "\n",
    "            mlflow.log_metric(\"train_loss\", avg_train_loss, step=epoch + 1)\n",
    "            mlflow.log_metric(\"validation_loss\", avg_val_loss, step=epoch + 1)\n",
    "            mlflow.log_metric(\"val_mse\", avg_mse, step=epoch + 1)\n",
    "            mlflow.log_metric('val_rmse', avg_rmse, step=epoch + 1) \n",
    "            mlflow.log_metric('train_rmse', avg_train_rmse, step=epoch + 1)\n",
    "            mlflow.log_metric(\"val_mae\", avg_mae, step=epoch + 1)\n",
    "            \n",
    "            "
   ]
  },
  {
   "cell_type": "code",
   "execution_count": 80,
   "metadata": {},
   "outputs": [
    {
     "name": "stdout",
     "output_type": "stream",
     "text": [
      "tensor(1.1183)\n"
     ]
    }
   ],
   "source": [
    "with torch.no_grad(): \n",
    "    predictions = model(X_test_preprocessed_torch) \n",
    "    rmse = compute_rmse(y_test_torch, predictions) \n",
    "    print(mse)"
   ]
  },
  {
   "cell_type": "code",
   "execution_count": null,
   "metadata": {},
   "outputs": [],
   "source": []
  },
  {
   "cell_type": "code",
   "execution_count": null,
   "metadata": {},
   "outputs": [],
   "source": []
  }
 ],
 "metadata": {
  "kernelspec": {
   "display_name": "flask_env",
   "language": "python",
   "name": "python3"
  },
  "language_info": {
   "codemirror_mode": {
    "name": "ipython",
    "version": 3
   },
   "file_extension": ".py",
   "mimetype": "text/x-python",
   "name": "python",
   "nbconvert_exporter": "python",
   "pygments_lexer": "ipython3",
   "version": "3.12.0"
  }
 },
 "nbformat": 4,
 "nbformat_minor": 2
}
